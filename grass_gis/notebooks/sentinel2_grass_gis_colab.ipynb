{
  "cells": [
    {
      "cell_type": "markdown",
      "metadata": {
        "id": "TIyvbakG6GZR"
      },
      "source": [
        "# [Part 2] Accessing Sentinel EO data (Google Colab)\n",
        "\n",
        "## Introduction\n",
        "\n",
        "In this notebook we will demonstrate the use of GRASS GIS 8.2+ in combination with Python within a Google Colab environment. We will use some GRASS GIS modules and related Python libraries which facilitate scripting (`grass.script`) and which let us connect and interact with Jupyter Notebooks (`grass.jupyter`). \n",
        "\n",
        "In this notebook we'll process Sentinel-2 data: NDVI computation and some time series processing.\n",
        "\n",
        "### Table of contents\n",
        "\n",
        "1. GRASS GIS & Python\n",
        "2. Paths and variables, connecting to GRASS GIS backend\n",
        "3. Data upload to notebook session\n",
        "4. Initialization of GRASS GIS in the Jupyter notebook session\n",
        "5. Creating an area of interest map\n",
        "6. Importing geodata into GRASS GIS\n",
        "7. Sentinel-2 processing overview\n",
        "8. Computing NDVI\n",
        "9. Time series data processing\n",
        "10. Supervised Classification: RandomForest\n",
        "11. What's next?"
      ]
    },
    {
      "cell_type": "markdown",
      "metadata": {
        "id": "EA2abi5s6GZU"
      },
      "source": [
        "## 1. GRASS GIS & Python\n",
        "\n",
        "<!-- This cell has been written by Veronica Andreo, https://veroandreo.gitlab.io/ -->\n",
        "\n",
        "### Python library \"grass.script\"\n",
        "\n",
        "The **grass.script** or GRASS GIS Python Scripting Library provides functions for calling GRASS modules within Python scripts as sub-processes. The most commonly used functions include:\n",
        "\n",
        "- `run_command`: used when the output of the modules is a raster or vector, no text type output is expected\n",
        "- `read_command`: used when the output of the modules is a text\n",
        "- `parse_command`: used with modules whose output can be converted to `key=value` pairs\n",
        "- `write_command`: used with modules that expect text input, either in the form of a file or from stdin\n",
        "\n",
        "It also provides several wrapper functions for frequently used modules:\n",
        "\n",
        "- To get info from a raster, script.raster.raster_info() is used: `gs.raster_info('dsm')`\n",
        "- To get info of a vector, script.vector.vector_info() is used: `gs.vector_info('roads')`\n",
        "- To list the raster in a location, script.core.list_grouped() is used: `gs.list_grouped(type=['raster'])`\n",
        "- To obtain the computational region, script.core.region() is used: `gs.region()`\n",
        "\n",
        "More info: https://grass.osgeo.org/grass-stable/manuals/libpython/script_intro.html\n",
        "\n",
        "### Python library \"grass.jupyter\"\n",
        "\n",
        "The **grass.jupyter** library improves the integration of GRASS and Jupyter, and provides different classes to visualize maps.\n",
        "\n",
        "- `init`: starts a GRASS session and sets up necessary environment variables\n",
        "- `Map`: 2D rendering\n",
        "- `Map3D`: 3D rendering\n",
        "- `InteractiveMap`: interactive visualization with folium\n",
        "- `TimeSeriesMap`: visualization for spatio-temporal data\n",
        "\n",
        "More info: https://grass.osgeo.org/grass-stable/manuals/libpython/grass.jupyter.html"
      ]
    },
    {
      "cell_type": "markdown",
      "metadata": {
        "id": "UjJ_h3I96GZW"
      },
      "source": [
        "Once set, we test if the installation works."
      ]
    },
    {
      "cell_type": "markdown",
      "source": [
        "## 1. Setup of the Google Colab instance with GRASS GIS 8\n",
        "\n",
        "[Google Colab](https://colab.research.google.com) comes with a pretty old Ubuntu 18.04 installation. Since we want to work with GRASS GIS, we first have to install it in colab."
      ],
      "metadata": {
        "id": "4P7OgKLx6yAN"
      }
    },
    {
      "cell_type": "code",
      "source": [
        "# Google Colab setup [skip this Jupyter notebook cell if you work locally]\n",
        "# where are we? Print system description\n",
        "!lsb_release -a\n",
        "\n",
        "# register ubuntugis-experimental repo for download\n",
        "!add-apt-repository -y ppa:ubuntugis/ubuntugis-unstable\n",
        "!add-apt-repository -y ppa:ubuntugis/ubuntugis-experimental\n",
        "!apt update\n",
        "\n",
        "# enforce the correct GDAL version\n",
        "!apt-get install -y libgdal26 python3-gdal\n",
        "# install GRASS GIS 8\n",
        "!apt-get install -y grass-core grass-dev\n",
        "!pip install gdal==3.0.4\n",
        "print(\"INSTALLATION COMPLETED\")"
      ],
      "metadata": {
        "colab": {
          "base_uri": "https://localhost:8080/"
        },
        "id": "1R6xklap7iGK",
        "outputId": "ec65d38d-d500-4355-de4c-0451f0a5898c"
      },
      "execution_count": 1,
      "outputs": [
        {
          "output_type": "stream",
          "name": "stdout",
          "text": [
            "No LSB modules are available.\n",
            "Distributor ID:\tUbuntu\n",
            "Description:\tUbuntu 18.04.5 LTS\n",
            "Release:\t18.04\n",
            "Codename:\tbionic\n",
            "Get:1 http://security.ubuntu.com/ubuntu bionic-security InRelease [88.7 kB]\n",
            "Get:2 https://developer.download.nvidia.com/compute/cuda/repos/ubuntu1804/x86_64  InRelease [1,581 B]\n",
            "Get:3 https://cloud.r-project.org/bin/linux/ubuntu bionic-cran40/ InRelease [3,626 B]\n",
            "Hit:4 http://archive.ubuntu.com/ubuntu bionic InRelease\n",
            "Get:5 http://archive.ubuntu.com/ubuntu bionic-updates InRelease [88.7 kB]\n",
            "Get:6 http://ppa.launchpad.net/c2d4u.team/c2d4u4.0+/ubuntu bionic InRelease [15.9 kB]\n",
            "Get:7 http://archive.ubuntu.com/ubuntu bionic-backports InRelease [74.6 kB]\n",
            "Ign:8 https://developer.download.nvidia.com/compute/machine-learning/repos/ubuntu1804/x86_64  InRelease\n",
            "Hit:9 https://developer.download.nvidia.com/compute/machine-learning/repos/ubuntu1804/x86_64  Release\n",
            "Get:10 https://developer.download.nvidia.com/compute/cuda/repos/ubuntu1804/x86_64  Packages [806 kB]\n",
            "Hit:11 http://ppa.launchpad.net/cran/libgit2/ubuntu bionic InRelease\n",
            "Get:12 http://ppa.launchpad.net/deadsnakes/ppa/ubuntu bionic InRelease [15.9 kB]\n",
            "Get:13 http://security.ubuntu.com/ubuntu bionic-security/main amd64 Packages [2,830 kB]\n",
            "Get:14 http://ppa.launchpad.net/graphics-drivers/ppa/ubuntu bionic InRelease [21.3 kB]\n",
            "Get:15 http://security.ubuntu.com/ubuntu bionic-security/restricted amd64 Packages [982 kB]\n",
            "Get:16 http://security.ubuntu.com/ubuntu bionic-security/universe amd64 Packages [1,515 kB]\n",
            "Get:17 http://ppa.launchpad.net/ubuntugis/ubuntugis-unstable/ubuntu bionic InRelease [20.8 kB]\n",
            "Get:18 http://archive.ubuntu.com/ubuntu bionic-updates/universe amd64 Packages [2,290 kB]\n",
            "Get:19 http://archive.ubuntu.com/ubuntu bionic-updates/main amd64 Packages [3,262 kB]\n",
            "Get:20 http://archive.ubuntu.com/ubuntu bionic-updates/restricted amd64 Packages [1,015 kB]\n",
            "Get:21 http://ppa.launchpad.net/c2d4u.team/c2d4u4.0+/ubuntu bionic/main Sources [1,992 kB]\n",
            "Get:23 http://ppa.launchpad.net/c2d4u.team/c2d4u4.0+/ubuntu bionic/main amd64 Packages [1,021 kB]\n",
            "Get:24 http://ppa.launchpad.net/deadsnakes/ppa/ubuntu bionic/main amd64 Packages [45.3 kB]\n",
            "Get:25 http://ppa.launchpad.net/graphics-drivers/ppa/ubuntu bionic/main amd64 Packages [47.7 kB]\n",
            "Get:26 http://ppa.launchpad.net/ubuntugis/ubuntugis-unstable/ubuntu bionic/main amd64 Packages [67.3 kB]\n",
            "Fetched 16.2 MB in 5s (2,985 kB/s)\n",
            "Reading package lists... Done\n",
            "Hit:1 http://archive.ubuntu.com/ubuntu bionic InRelease\n",
            "Hit:2 https://developer.download.nvidia.com/compute/cuda/repos/ubuntu1804/x86_64  InRelease\n",
            "Hit:3 http://archive.ubuntu.com/ubuntu bionic-updates InRelease\n",
            "Hit:4 https://cloud.r-project.org/bin/linux/ubuntu bionic-cran40/ InRelease\n",
            "Hit:5 http://archive.ubuntu.com/ubuntu bionic-backports InRelease\n",
            "Hit:6 http://ppa.launchpad.net/c2d4u.team/c2d4u4.0+/ubuntu bionic InRelease\n",
            "Hit:7 http://security.ubuntu.com/ubuntu bionic-security InRelease\n",
            "Ign:8 https://developer.download.nvidia.com/compute/machine-learning/repos/ubuntu1804/x86_64  InRelease\n",
            "Hit:9 https://developer.download.nvidia.com/compute/machine-learning/repos/ubuntu1804/x86_64  Release\n",
            "Hit:10 http://ppa.launchpad.net/cran/libgit2/ubuntu bionic InRelease\n",
            "Hit:11 http://ppa.launchpad.net/deadsnakes/ppa/ubuntu bionic InRelease\n",
            "Hit:12 http://ppa.launchpad.net/graphics-drivers/ppa/ubuntu bionic InRelease\n",
            "Get:13 http://ppa.launchpad.net/ubuntugis/ubuntugis-experimental/ubuntu bionic InRelease [20.8 kB]\n",
            "Hit:14 http://ppa.launchpad.net/ubuntugis/ubuntugis-unstable/ubuntu bionic InRelease\n",
            "Get:16 http://ppa.launchpad.net/ubuntugis/ubuntugis-experimental/ubuntu bionic/main amd64 Packages [1,811 B]\n",
            "Fetched 22.6 kB in 3s (7,684 B/s)\n",
            "Reading package lists... Done\n",
            "Hit:1 http://archive.ubuntu.com/ubuntu bionic InRelease\n",
            "Hit:2 http://security.ubuntu.com/ubuntu bionic-security InRelease\n",
            "Hit:3 https://developer.download.nvidia.com/compute/cuda/repos/ubuntu1804/x86_64  InRelease\n",
            "Hit:4 https://cloud.r-project.org/bin/linux/ubuntu bionic-cran40/ InRelease\n",
            "Hit:5 http://archive.ubuntu.com/ubuntu bionic-updates InRelease\n",
            "Hit:6 http://archive.ubuntu.com/ubuntu bionic-backports InRelease\n",
            "Hit:7 http://ppa.launchpad.net/c2d4u.team/c2d4u4.0+/ubuntu bionic InRelease\n",
            "Ign:8 https://developer.download.nvidia.com/compute/machine-learning/repos/ubuntu1804/x86_64  InRelease\n",
            "Hit:9 https://developer.download.nvidia.com/compute/machine-learning/repos/ubuntu1804/x86_64  Release\n",
            "Hit:10 http://ppa.launchpad.net/cran/libgit2/ubuntu bionic InRelease\n",
            "Hit:11 http://ppa.launchpad.net/deadsnakes/ppa/ubuntu bionic InRelease\n",
            "Hit:12 http://ppa.launchpad.net/graphics-drivers/ppa/ubuntu bionic InRelease\n",
            "Hit:13 http://ppa.launchpad.net/ubuntugis/ubuntugis-experimental/ubuntu bionic InRelease\n",
            "Hit:14 http://ppa.launchpad.net/ubuntugis/ubuntugis-unstable/ubuntu bionic InRelease\n",
            "Reading package lists... Done\n",
            "Building dependency tree       \n",
            "Reading state information... Done\n",
            "139 packages can be upgraded. Run 'apt list --upgradable' to see them.\n",
            "Reading package lists... Done\n",
            "Building dependency tree       \n",
            "Reading state information... Done\n",
            "The following packages were automatically installed and are no longer required:\n",
            "  libgeos-3.6.2 libgeotiff2 libnvidia-common-460 python-numpy\n",
            "Use 'apt autoremove' to remove them.\n",
            "The following additional packages will be installed:\n",
            "  gdal-bin gdal-data libcfitsio-dev libcfitsio5 libcharls-dev libgdal-dev\n",
            "  libgeos-3.8.0 libgeos-c1v5 libgeos-dev libgeotiff-dev libgeotiff5\n",
            "  libogdi-dev libogdi4.1 libopencv-calib3d-dev libopencv-calib3d3.2\n",
            "  libopencv-contrib-dev libopencv-contrib3.2 libopencv-core-dev\n",
            "  libopencv-core3.2 libopencv-dev libopencv-features2d-dev\n",
            "  libopencv-features2d3.2 libopencv-flann-dev libopencv-flann3.2\n",
            "  libopencv-highgui-dev libopencv-highgui3.2 libopencv-imgcodecs-dev\n",
            "  libopencv-imgcodecs3.2 libopencv-imgproc-dev libopencv-imgproc3.2\n",
            "  libopencv-ml-dev libopencv-ml3.2 libopencv-objdetect-dev\n",
            "  libopencv-objdetect3.2 libopencv-photo-dev libopencv-photo3.2\n",
            "  libopencv-shape-dev libopencv-shape3.2 libopencv-stitching-dev\n",
            "  libopencv-stitching3.2 libopencv-superres-dev libopencv-superres3.2\n",
            "  libopencv-ts-dev libopencv-video-dev libopencv-video3.2\n",
            "  libopencv-videoio-dev libopencv-videoio3.2 libopencv-videostab-dev\n",
            "  libopencv-videostab3.2 libopencv-viz-dev libopencv-viz3.2 libopencv3.2-java\n",
            "  libopencv3.2-jni libproj-dev libproj19 libvtk6.3 libzstd-dev libzstd1\n",
            "  proj-bin proj-data python3-numpy\n",
            "Suggested packages:\n",
            "  libgdal-grass libgdal-doc libgeotiff-epsg geotiff-bin ogdi-bin opencv-doc\n",
            "  vtk6-doc vtk6-examples python-numpy-doc python3-nose python3-numpy-dbg\n",
            "Recommended packages:\n",
            "  libcfitsio-doc opencv-data\n",
            "The following packages will be REMOVED:\n",
            "  libgdal20 libogdi3.2 libogdi3.2-dev python-gdal\n",
            "The following NEW packages will be installed:\n",
            "  libcfitsio-dev libcfitsio5 libcharls-dev libgdal26 libgeos-3.8.0 libgeotiff5\n",
            "  libogdi-dev libogdi4.1 libproj19 libzstd-dev proj-bin python3-gdal\n",
            "  python3-numpy\n",
            "The following packages will be upgraded:\n",
            "  gdal-bin gdal-data libgdal-dev libgeos-c1v5 libgeos-dev libgeotiff-dev\n",
            "  libopencv-calib3d-dev libopencv-calib3d3.2 libopencv-contrib-dev\n",
            "  libopencv-contrib3.2 libopencv-core-dev libopencv-core3.2 libopencv-dev\n",
            "  libopencv-features2d-dev libopencv-features2d3.2 libopencv-flann-dev\n",
            "  libopencv-flann3.2 libopencv-highgui-dev libopencv-highgui3.2\n",
            "  libopencv-imgcodecs-dev libopencv-imgcodecs3.2 libopencv-imgproc-dev\n",
            "  libopencv-imgproc3.2 libopencv-ml-dev libopencv-ml3.2\n",
            "  libopencv-objdetect-dev libopencv-objdetect3.2 libopencv-photo-dev\n",
            "  libopencv-photo3.2 libopencv-shape-dev libopencv-shape3.2\n",
            "  libopencv-stitching-dev libopencv-stitching3.2 libopencv-superres-dev\n",
            "  libopencv-superres3.2 libopencv-ts-dev libopencv-video-dev\n",
            "  libopencv-video3.2 libopencv-videoio-dev libopencv-videoio3.2\n",
            "  libopencv-videostab-dev libopencv-videostab3.2 libopencv-viz-dev\n",
            "  libopencv-viz3.2 libopencv3.2-java libopencv3.2-jni libproj-dev libvtk6.3\n",
            "  libzstd1 proj-data\n",
            "50 upgraded, 13 newly installed, 4 to remove and 89 not upgraded.\n",
            "Need to get 84.3 MB of archives.\n",
            "After this operation, 141 MB of additional disk space will be used.\n",
            "Get:1 http://archive.ubuntu.com/ubuntu bionic/universe amd64 libcfitsio5 amd64 3.430-2 [446 kB]\n",
            "Get:2 http://ppa.launchpad.net/ubuntugis/ubuntugis-unstable/ubuntu bionic/main amd64 libgdal-dev amd64 3.0.4+dfsg-1~bionic0 [7,659 kB]\n",
            "Get:3 http://archive.ubuntu.com/ubuntu bionic/universe amd64 libcfitsio-dev amd64 3.430-2 [494 kB]\n",
            "Get:4 http://archive.ubuntu.com/ubuntu bionic/universe amd64 libcharls-dev amd64 1.1.0+dfsg-2 [20.4 kB]\n",
            "Get:5 http://archive.ubuntu.com/ubuntu bionic-updates/main amd64 libzstd1 amd64 1.3.3+dfsg-2ubuntu1.2 [189 kB]\n",
            "Get:6 http://archive.ubuntu.com/ubuntu bionic-updates/main amd64 libzstd-dev amd64 1.3.3+dfsg-2ubuntu1.2 [230 kB]\n",
            "Get:7 http://archive.ubuntu.com/ubuntu bionic/main amd64 python3-numpy amd64 1:1.13.3-2ubuntu1 [1,943 kB]\n",
            "Get:8 http://ppa.launchpad.net/ubuntugis/ubuntugis-unstable/ubuntu bionic/main amd64 libopencv-dev amd64 3.2.0+dfsg-4ubuntu0.1+bionic4 [237 kB]\n",
            "Get:9 http://ppa.launchpad.net/ubuntugis/ubuntugis-unstable/ubuntu bionic/main amd64 libopencv-contrib-dev amd64 3.2.0+dfsg-4ubuntu0.1+bionic4 [1,877 kB]\n",
            "Get:10 http://ppa.launchpad.net/ubuntugis/ubuntugis-unstable/ubuntu bionic/main amd64 libopencv-contrib3.2 amd64 3.2.0+dfsg-4ubuntu0.1+bionic4 [1,464 kB]\n",
            "Get:11 http://ppa.launchpad.net/ubuntugis/ubuntugis-unstable/ubuntu bionic/main amd64 libopencv-superres-dev amd64 3.2.0+dfsg-4ubuntu0.1+bionic4 [65.9 kB]\n",
            "Get:12 http://ppa.launchpad.net/ubuntugis/ubuntugis-unstable/ubuntu bionic/main amd64 libopencv-stitching-dev amd64 3.2.0+dfsg-4ubuntu0.1+bionic4 [222 kB]\n",
            "Get:13 http://ppa.launchpad.net/ubuntugis/ubuntugis-unstable/ubuntu bionic/main amd64 libopencv-objdetect-dev amd64 3.2.0+dfsg-4ubuntu0.1+bionic4 [176 kB]\n",
            "Get:14 http://ppa.launchpad.net/ubuntugis/ubuntugis-unstable/ubuntu bionic/main amd64 libopencv-videostab-dev amd64 3.2.0+dfsg-4ubuntu0.1+bionic4 [135 kB]\n",
            "Get:15 http://ppa.launchpad.net/ubuntugis/ubuntugis-unstable/ubuntu bionic/main amd64 libopencv-calib3d-dev amd64 3.2.0+dfsg-4ubuntu0.1+bionic4 [516 kB]\n",
            "Get:16 http://ppa.launchpad.net/ubuntugis/ubuntugis-unstable/ubuntu bionic/main amd64 libopencv-features2d-dev amd64 3.2.0+dfsg-4ubuntu0.1+bionic4 [293 kB]\n",
            "Get:17 http://ppa.launchpad.net/ubuntugis/ubuntugis-unstable/ubuntu bionic/main amd64 libopencv-highgui-dev amd64 3.2.0+dfsg-4ubuntu0.1+bionic4 [44.2 kB]\n",
            "Get:18 http://ppa.launchpad.net/ubuntugis/ubuntugis-unstable/ubuntu bionic/main amd64 libopencv-videoio-dev amd64 3.2.0+dfsg-4ubuntu0.1+bionic4 [124 kB]\n",
            "Get:19 http://ppa.launchpad.net/ubuntugis/ubuntugis-unstable/ubuntu bionic/main amd64 libopencv-superres3.2 amd64 3.2.0+dfsg-4ubuntu0.1+bionic4 [56.0 kB]\n",
            "Get:20 http://ppa.launchpad.net/ubuntugis/ubuntugis-unstable/ubuntu bionic/main amd64 libopencv3.2-jni amd64 3.2.0+dfsg-4ubuntu0.1+bionic4 [201 kB]\n",
            "Get:21 http://ppa.launchpad.net/ubuntugis/ubuntugis-unstable/ubuntu bionic/main amd64 libopencv-stitching3.2 amd64 3.2.0+dfsg-4ubuntu0.1+bionic4 [180 kB]\n",
            "Get:22 http://ppa.launchpad.net/ubuntugis/ubuntugis-unstable/ubuntu bionic/main amd64 libopencv-objdetect3.2 amd64 3.2.0+dfsg-4ubuntu0.1+bionic4 [151 kB]\n",
            "Get:23 http://ppa.launchpad.net/ubuntugis/ubuntugis-unstable/ubuntu bionic/main amd64 libopencv-videostab3.2 amd64 3.2.0+dfsg-4ubuntu0.1+bionic4 [111 kB]\n",
            "Get:24 http://ppa.launchpad.net/ubuntugis/ubuntugis-unstable/ubuntu bionic/main amd64 libopencv-calib3d3.2 amd64 3.2.0+dfsg-4ubuntu0.1+bionic4 [440 kB]\n",
            "Get:25 http://ppa.launchpad.net/ubuntugis/ubuntugis-unstable/ubuntu bionic/main amd64 libopencv-features2d3.2 amd64 3.2.0+dfsg-4ubuntu0.1+bionic4 [244 kB]\n",
            "Get:26 http://ppa.launchpad.net/ubuntugis/ubuntugis-unstable/ubuntu bionic/main amd64 libopencv-highgui3.2 amd64 3.2.0+dfsg-4ubuntu0.1+bionic4 [32.4 kB]\n",
            "Get:27 http://ppa.launchpad.net/ubuntugis/ubuntugis-unstable/ubuntu bionic/main amd64 libopencv-videoio3.2 amd64 3.2.0+dfsg-4ubuntu0.1+bionic4 [90.9 kB]\n",
            "Get:28 http://ppa.launchpad.net/ubuntugis/ubuntugis-unstable/ubuntu bionic/main amd64 libopencv-imgcodecs-dev amd64 3.2.0+dfsg-4ubuntu0.1+bionic4 [132 kB]\n",
            "Get:29 http://ppa.launchpad.net/ubuntugis/ubuntugis-unstable/ubuntu bionic/main amd64 libopencv-imgcodecs3.2 amd64 3.2.0+dfsg-4ubuntu0.1+bionic4 [95.8 kB]\n",
            "Get:30 http://ppa.launchpad.net/ubuntugis/ubuntugis-unstable/ubuntu bionic/main amd64 libvtk6.3 amd64 6.3.0+dfsg2-2build4~bionic4 [31.5 MB]\n",
            "Get:31 http://ppa.launchpad.net/ubuntugis/ubuntugis-unstable/ubuntu bionic/main amd64 gdal-bin amd64 3.0.4+dfsg-1~bionic0 [500 kB]\n",
            "Get:32 http://ppa.launchpad.net/ubuntugis/ubuntugis-unstable/ubuntu bionic/main amd64 gdal-data all 3.0.4+dfsg-1~bionic0 [430 kB]\n",
            "Get:33 http://ppa.launchpad.net/ubuntugis/ubuntugis-unstable/ubuntu bionic/main amd64 libgeos-dev amd64 3.8.0-1~bionic0 [96.8 kB]\n",
            "Get:34 http://ppa.launchpad.net/ubuntugis/ubuntugis-unstable/ubuntu bionic/main amd64 libgeos-3.8.0 amd64 3.8.0-1~bionic0 [541 kB]\n",
            "Get:35 http://ppa.launchpad.net/ubuntugis/ubuntugis-unstable/ubuntu bionic/main amd64 libgeos-c1v5 amd64 3.8.0-1~bionic0 [76.6 kB]\n",
            "Get:36 http://ppa.launchpad.net/ubuntugis/ubuntugis-unstable/ubuntu bionic/main amd64 proj-data all 7.0.0-1~bionic0 [7,707 kB]\n",
            "Get:37 http://ppa.launchpad.net/ubuntugis/ubuntugis-unstable/ubuntu bionic/main amd64 libproj19 amd64 7.0.0-1~bionic0 [925 kB]\n",
            "Get:38 http://ppa.launchpad.net/ubuntugis/ubuntugis-unstable/ubuntu bionic/main amd64 libgeotiff5 amd64 1.5.1-2~bionic2 [73.6 kB]\n",
            "Get:39 http://ppa.launchpad.net/ubuntugis/ubuntugis-unstable/ubuntu bionic/main amd64 libogdi4.1 amd64 4.1.0+ds-1~bionic2 [200 kB]\n",
            "Get:40 http://ppa.launchpad.net/ubuntugis/ubuntugis-unstable/ubuntu bionic/main amd64 libgdal26 amd64 3.0.4+dfsg-1~bionic0 [6,164 kB]\n",
            "Get:41 http://ppa.launchpad.net/ubuntugis/ubuntugis-unstable/ubuntu bionic/main amd64 libproj-dev amd64 7.0.0-1~bionic0 [10.8 MB]\n",
            "Get:42 http://ppa.launchpad.net/ubuntugis/ubuntugis-unstable/ubuntu bionic/main amd64 libgeotiff-dev amd64 1.5.1-2~bionic2 [100 kB]\n",
            "Get:43 http://ppa.launchpad.net/ubuntugis/ubuntugis-unstable/ubuntu bionic/main amd64 libogdi-dev amd64 4.1.0+ds-1~bionic2 [25.4 kB]\n",
            "Get:44 http://ppa.launchpad.net/ubuntugis/ubuntugis-unstable/ubuntu bionic/main amd64 libopencv-ts-dev amd64 3.2.0+dfsg-4ubuntu0.1+bionic4 [279 kB]\n",
            "Get:45 http://ppa.launchpad.net/ubuntugis/ubuntugis-unstable/ubuntu bionic/main amd64 libopencv-flann-dev amd64 3.2.0+dfsg-4ubuntu0.1+bionic4 [176 kB]\n",
            "Get:46 http://ppa.launchpad.net/ubuntugis/ubuntugis-unstable/ubuntu bionic/main amd64 libopencv-flann3.2 amd64 3.2.0+dfsg-4ubuntu0.1+bionic4 [105 kB]\n",
            "Get:47 http://ppa.launchpad.net/ubuntugis/ubuntugis-unstable/ubuntu bionic/main amd64 libopencv-ml-dev amd64 3.2.0+dfsg-4ubuntu0.1+bionic4 [296 kB]\n",
            "Get:48 http://ppa.launchpad.net/ubuntugis/ubuntugis-unstable/ubuntu bionic/main amd64 libopencv-ml3.2 amd64 3.2.0+dfsg-4ubuntu0.1+bionic4 [236 kB]\n",
            "Get:49 http://ppa.launchpad.net/ubuntugis/ubuntugis-unstable/ubuntu bionic/main amd64 libopencv-viz-dev amd64 3.2.0+dfsg-4ubuntu0.1+bionic4 [163 kB]\n",
            "Get:50 http://ppa.launchpad.net/ubuntugis/ubuntugis-unstable/ubuntu bionic/main amd64 libopencv-shape-dev amd64 3.2.0+dfsg-4ubuntu0.1+bionic4 [84.0 kB]\n",
            "Get:51 http://ppa.launchpad.net/ubuntugis/ubuntugis-unstable/ubuntu bionic/main amd64 libopencv-video-dev amd64 3.2.0+dfsg-4ubuntu0.1+bionic4 [162 kB]\n",
            "Get:52 http://ppa.launchpad.net/ubuntugis/ubuntugis-unstable/ubuntu bionic/main amd64 libopencv-photo-dev amd64 3.2.0+dfsg-4ubuntu0.1+bionic4 [238 kB]\n",
            "Get:53 http://ppa.launchpad.net/ubuntugis/ubuntugis-unstable/ubuntu bionic/main amd64 libopencv-imgproc-dev amd64 3.2.0+dfsg-4ubuntu0.1+bionic4 [1,023 kB]\n",
            "Get:54 http://ppa.launchpad.net/ubuntugis/ubuntugis-unstable/ubuntu bionic/main amd64 libopencv-core-dev amd64 3.2.0+dfsg-4ubuntu0.1+bionic4 [1,109 kB]\n",
            "Get:55 http://ppa.launchpad.net/ubuntugis/ubuntugis-unstable/ubuntu bionic/main amd64 libopencv-viz3.2 amd64 3.2.0+dfsg-4ubuntu0.1+bionic4 [124 kB]\n",
            "Get:56 http://ppa.launchpad.net/ubuntugis/ubuntugis-unstable/ubuntu bionic/main amd64 libopencv-shape3.2 amd64 3.2.0+dfsg-4ubuntu0.1+bionic4 [69.7 kB]\n",
            "Get:57 http://ppa.launchpad.net/ubuntugis/ubuntugis-unstable/ubuntu bionic/main amd64 libopencv-video3.2 amd64 3.2.0+dfsg-4ubuntu0.1+bionic4 [136 kB]\n",
            "Get:58 http://ppa.launchpad.net/ubuntugis/ubuntugis-unstable/ubuntu bionic/main amd64 libopencv-photo3.2 amd64 3.2.0+dfsg-4ubuntu0.1+bionic4 [203 kB]\n",
            "Get:59 http://ppa.launchpad.net/ubuntugis/ubuntugis-unstable/ubuntu bionic/main amd64 libopencv-imgproc3.2 amd64 3.2.0+dfsg-4ubuntu0.1+bionic4 [831 kB]\n",
            "Get:60 http://ppa.launchpad.net/ubuntugis/ubuntugis-unstable/ubuntu bionic/main amd64 libopencv-core3.2 amd64 3.2.0+dfsg-4ubuntu0.1+bionic4 [720 kB]\n",
            "Get:61 http://ppa.launchpad.net/ubuntugis/ubuntugis-unstable/ubuntu bionic/main amd64 libopencv3.2-java all 3.2.0+dfsg-4ubuntu0.1+bionic4 [401 kB]\n",
            "Get:62 http://ppa.launchpad.net/ubuntugis/ubuntugis-unstable/ubuntu bionic/main amd64 python3-gdal amd64 3.0.4+dfsg-1~bionic0 [760 kB]\n",
            "Get:63 http://ppa.launchpad.net/ubuntugis/ubuntugis-unstable/ubuntu bionic/main amd64 proj-bin amd64 7.0.0-1~bionic0 [158 kB]\n",
            "Fetched 84.3 MB in 33s (2,568 kB/s)\n",
            "Extracting templates from packages: 100%\n",
            "(Reading database ... 155632 files and directories currently installed.)\n",
            "Preparing to unpack .../00-libgdal-dev_3.0.4+dfsg-1~bionic0_amd64.deb ...\n",
            "Unpacking libgdal-dev (3.0.4+dfsg-1~bionic0) over (2.2.3+dfsg-2) ...\n",
            "Preparing to unpack .../01-libopencv-dev_3.2.0+dfsg-4ubuntu0.1+bionic4_amd64.deb ...\n",
            "Unpacking libopencv-dev (3.2.0+dfsg-4ubuntu0.1+bionic4) over (3.2.0+dfsg-4ubuntu0.1) ...\n",
            "Preparing to unpack .../02-libopencv-contrib-dev_3.2.0+dfsg-4ubuntu0.1+bionic4_amd64.deb ...\n",
            "Unpacking libopencv-contrib-dev:amd64 (3.2.0+dfsg-4ubuntu0.1+bionic4) over (3.2.0+dfsg-4ubuntu0.1) ...\n",
            "Preparing to unpack .../03-libopencv-contrib3.2_3.2.0+dfsg-4ubuntu0.1+bionic4_amd64.deb ...\n",
            "Unpacking libopencv-contrib3.2:amd64 (3.2.0+dfsg-4ubuntu0.1+bionic4) over (3.2.0+dfsg-4ubuntu0.1) ...\n",
            "Preparing to unpack .../04-libopencv-superres-dev_3.2.0+dfsg-4ubuntu0.1+bionic4_amd64.deb ...\n",
            "Unpacking libopencv-superres-dev:amd64 (3.2.0+dfsg-4ubuntu0.1+bionic4) over (3.2.0+dfsg-4ubuntu0.1) ...\n",
            "Preparing to unpack .../05-libopencv-stitching-dev_3.2.0+dfsg-4ubuntu0.1+bionic4_amd64.deb ...\n",
            "Unpacking libopencv-stitching-dev:amd64 (3.2.0+dfsg-4ubuntu0.1+bionic4) over (3.2.0+dfsg-4ubuntu0.1) ...\n",
            "Preparing to unpack .../06-libopencv-objdetect-dev_3.2.0+dfsg-4ubuntu0.1+bionic4_amd64.deb ...\n",
            "Unpacking libopencv-objdetect-dev:amd64 (3.2.0+dfsg-4ubuntu0.1+bionic4) over (3.2.0+dfsg-4ubuntu0.1) ...\n",
            "Preparing to unpack .../07-libopencv-videostab-dev_3.2.0+dfsg-4ubuntu0.1+bionic4_amd64.deb ...\n",
            "Unpacking libopencv-videostab-dev:amd64 (3.2.0+dfsg-4ubuntu0.1+bionic4) over (3.2.0+dfsg-4ubuntu0.1) ...\n",
            "Preparing to unpack .../08-libopencv-calib3d-dev_3.2.0+dfsg-4ubuntu0.1+bionic4_amd64.deb ...\n",
            "Unpacking libopencv-calib3d-dev:amd64 (3.2.0+dfsg-4ubuntu0.1+bionic4) over (3.2.0+dfsg-4ubuntu0.1) ...\n",
            "Preparing to unpack .../09-libopencv-features2d-dev_3.2.0+dfsg-4ubuntu0.1+bionic4_amd64.deb ...\n",
            "Unpacking libopencv-features2d-dev:amd64 (3.2.0+dfsg-4ubuntu0.1+bionic4) over (3.2.0+dfsg-4ubuntu0.1) ...\n",
            "Preparing to unpack .../10-libopencv-highgui-dev_3.2.0+dfsg-4ubuntu0.1+bionic4_amd64.deb ...\n",
            "Unpacking libopencv-highgui-dev:amd64 (3.2.0+dfsg-4ubuntu0.1+bionic4) over (3.2.0+dfsg-4ubuntu0.1) ...\n",
            "Preparing to unpack .../11-libopencv-videoio-dev_3.2.0+dfsg-4ubuntu0.1+bionic4_amd64.deb ...\n",
            "Unpacking libopencv-videoio-dev:amd64 (3.2.0+dfsg-4ubuntu0.1+bionic4) over (3.2.0+dfsg-4ubuntu0.1) ...\n",
            "Preparing to unpack .../12-libopencv-superres3.2_3.2.0+dfsg-4ubuntu0.1+bionic4_amd64.deb ...\n",
            "Unpacking libopencv-superres3.2:amd64 (3.2.0+dfsg-4ubuntu0.1+bionic4) over (3.2.0+dfsg-4ubuntu0.1) ...\n",
            "Preparing to unpack .../13-libopencv3.2-jni_3.2.0+dfsg-4ubuntu0.1+bionic4_amd64.deb ...\n",
            "Unpacking libopencv3.2-jni (3.2.0+dfsg-4ubuntu0.1+bionic4) over (3.2.0+dfsg-4ubuntu0.1) ...\n",
            "Preparing to unpack .../14-libopencv-stitching3.2_3.2.0+dfsg-4ubuntu0.1+bionic4_amd64.deb ...\n",
            "Unpacking libopencv-stitching3.2:amd64 (3.2.0+dfsg-4ubuntu0.1+bionic4) over (3.2.0+dfsg-4ubuntu0.1) ...\n",
            "Preparing to unpack .../15-libopencv-objdetect3.2_3.2.0+dfsg-4ubuntu0.1+bionic4_amd64.deb ...\n",
            "Unpacking libopencv-objdetect3.2:amd64 (3.2.0+dfsg-4ubuntu0.1+bionic4) over (3.2.0+dfsg-4ubuntu0.1) ...\n",
            "Preparing to unpack .../16-libopencv-videostab3.2_3.2.0+dfsg-4ubuntu0.1+bionic4_amd64.deb ...\n",
            "Unpacking libopencv-videostab3.2:amd64 (3.2.0+dfsg-4ubuntu0.1+bionic4) over (3.2.0+dfsg-4ubuntu0.1) ...\n",
            "Preparing to unpack .../17-libopencv-calib3d3.2_3.2.0+dfsg-4ubuntu0.1+bionic4_amd64.deb ...\n",
            "Unpacking libopencv-calib3d3.2:amd64 (3.2.0+dfsg-4ubuntu0.1+bionic4) over (3.2.0+dfsg-4ubuntu0.1) ...\n",
            "Preparing to unpack .../18-libopencv-features2d3.2_3.2.0+dfsg-4ubuntu0.1+bionic4_amd64.deb ...\n",
            "Unpacking libopencv-features2d3.2:amd64 (3.2.0+dfsg-4ubuntu0.1+bionic4) over (3.2.0+dfsg-4ubuntu0.1) ...\n",
            "Preparing to unpack .../19-libopencv-highgui3.2_3.2.0+dfsg-4ubuntu0.1+bionic4_amd64.deb ...\n",
            "Unpacking libopencv-highgui3.2:amd64 (3.2.0+dfsg-4ubuntu0.1+bionic4) over (3.2.0+dfsg-4ubuntu0.1) ...\n",
            "Preparing to unpack .../20-libopencv-videoio3.2_3.2.0+dfsg-4ubuntu0.1+bionic4_amd64.deb ...\n",
            "Unpacking libopencv-videoio3.2:amd64 (3.2.0+dfsg-4ubuntu0.1+bionic4) over (3.2.0+dfsg-4ubuntu0.1) ...\n",
            "Preparing to unpack .../21-libopencv-imgcodecs-dev_3.2.0+dfsg-4ubuntu0.1+bionic4_amd64.deb ...\n",
            "Unpacking libopencv-imgcodecs-dev:amd64 (3.2.0+dfsg-4ubuntu0.1+bionic4) over (3.2.0+dfsg-4ubuntu0.1) ...\n",
            "Preparing to unpack .../22-libopencv-imgcodecs3.2_3.2.0+dfsg-4ubuntu0.1+bionic4_amd64.deb ...\n",
            "Unpacking libopencv-imgcodecs3.2:amd64 (3.2.0+dfsg-4ubuntu0.1+bionic4) over (3.2.0+dfsg-4ubuntu0.1) ...\n",
            "(Reading database ... 155622 files and directories currently installed.)\n",
            "Removing python-gdal (2.2.3+dfsg-2) ...\n",
            "(Reading database ... 155512 files and directories currently installed.)\n",
            "Preparing to unpack .../libvtk6.3_6.3.0+dfsg2-2build4~bionic4_amd64.deb ...\n",
            "Unpacking libvtk6.3 (6.3.0+dfsg2-2build4~bionic4) over (6.3.0+dfsg1-11build1) ...\n",
            "Preparing to unpack .../gdal-bin_3.0.4+dfsg-1~bionic0_amd64.deb ...\n",
            "Unpacking gdal-bin (3.0.4+dfsg-1~bionic0) over (2.2.3+dfsg-2) ...\n",
            "(Reading database ... 155555 files and directories currently installed.)\n",
            "Removing libgdal20 (2.2.3+dfsg-2) ...\n",
            "(Reading database ... 155548 files and directories currently installed.)\n",
            "Preparing to unpack .../0-gdal-data_3.0.4+dfsg-1~bionic0_all.deb ...\n",
            "Unpacking gdal-data (3.0.4+dfsg-1~bionic0) over (2.2.3+dfsg-2) ...\n",
            "Selecting previously unselected package libcfitsio5:amd64.\n",
            "Preparing to unpack .../1-libcfitsio5_3.430-2_amd64.deb ...\n",
            "Unpacking libcfitsio5:amd64 (3.430-2) ...\n",
            "Preparing to unpack .../2-libgeos-dev_3.8.0-1~bionic0_amd64.deb ...\n",
            "Unpacking libgeos-dev (3.8.0-1~bionic0) over (3.6.2-1build2) ...\n",
            "Selecting previously unselected package libgeos-3.8.0:amd64.\n",
            "Preparing to unpack .../3-libgeos-3.8.0_3.8.0-1~bionic0_amd64.deb ...\n",
            "Unpacking libgeos-3.8.0:amd64 (3.8.0-1~bionic0) ...\n",
            "Preparing to unpack .../4-libgeos-c1v5_3.8.0-1~bionic0_amd64.deb ...\n",
            "Unpacking libgeos-c1v5:amd64 (3.8.0-1~bionic0) over (3.6.2-1build2) ...\n",
            "Preparing to unpack .../5-proj-data_7.0.0-1~bionic0_all.deb ...\n",
            "Unpacking proj-data (7.0.0-1~bionic0) over (4.9.3-2) ...\n",
            "Selecting previously unselected package libproj19:amd64.\n",
            "Preparing to unpack .../6-libproj19_7.0.0-1~bionic0_amd64.deb ...\n",
            "Unpacking libproj19:amd64 (7.0.0-1~bionic0) ...\n",
            "Selecting previously unselected package libgeotiff5:amd64.\n",
            "Preparing to unpack .../7-libgeotiff5_1.5.1-2~bionic2_amd64.deb ...\n",
            "Unpacking libgeotiff5:amd64 (1.5.1-2~bionic2) ...\n",
            "(Reading database ... 155566 files and directories currently installed.)\n",
            "Removing libogdi3.2-dev (3.2.0+ds-2) ...\n",
            "Removing libogdi3.2 (3.2.0+ds-2) ...\n",
            "Selecting previously unselected package libogdi4.1.\n",
            "(Reading database ... 155535 files and directories currently installed.)\n",
            "Preparing to unpack .../0-libogdi4.1_4.1.0+ds-1~bionic2_amd64.deb ...\n",
            "Unpacking libogdi4.1 (4.1.0+ds-1~bionic2) ...\n",
            "Selecting previously unselected package libgdal26.\n",
            "Preparing to unpack .../1-libgdal26_3.0.4+dfsg-1~bionic0_amd64.deb ...\n",
            "Unpacking libgdal26 (3.0.4+dfsg-1~bionic0) ...\n",
            "Selecting previously unselected package libcfitsio-dev:amd64.\n",
            "Preparing to unpack .../2-libcfitsio-dev_3.430-2_amd64.deb ...\n",
            "Unpacking libcfitsio-dev:amd64 (3.430-2) ...\n",
            "Selecting previously unselected package libcharls-dev:amd64.\n",
            "Preparing to unpack .../3-libcharls-dev_1.1.0+dfsg-2_amd64.deb ...\n",
            "Unpacking libcharls-dev:amd64 (1.1.0+dfsg-2) ...\n",
            "Preparing to unpack .../4-libproj-dev_7.0.0-1~bionic0_amd64.deb ...\n",
            "Unpacking libproj-dev:amd64 (7.0.0-1~bionic0) over (4.9.3-2) ...\n",
            "Preparing to unpack .../5-libgeotiff-dev_1.5.1-2~bionic2_amd64.deb ...\n",
            "Unpacking libgeotiff-dev:amd64 (1.5.1-2~bionic2) over (1.4.2-2build1) ...\n",
            "Selecting previously unselected package libogdi-dev.\n",
            "Preparing to unpack .../6-libogdi-dev_4.1.0+ds-1~bionic2_amd64.deb ...\n",
            "Unpacking libogdi-dev (4.1.0+ds-1~bionic2) ...\n",
            "Preparing to unpack .../7-libzstd1_1.3.3+dfsg-2ubuntu1.2_amd64.deb ...\n",
            "Unpacking libzstd1:amd64 (1.3.3+dfsg-2ubuntu1.2) over (1.3.3+dfsg-2ubuntu1.1) ...\n",
            "Setting up libzstd1:amd64 (1.3.3+dfsg-2ubuntu1.2) ...\n",
            "Selecting previously unselected package libzstd-dev:amd64.\n",
            "(Reading database ... 155616 files and directories currently installed.)\n",
            "Preparing to unpack .../00-libzstd-dev_1.3.3+dfsg-2ubuntu1.2_amd64.deb ...\n",
            "Unpacking libzstd-dev:amd64 (1.3.3+dfsg-2ubuntu1.2) ...\n",
            "Preparing to unpack .../01-libopencv-ts-dev_3.2.0+dfsg-4ubuntu0.1+bionic4_amd64.deb ...\n",
            "Unpacking libopencv-ts-dev:amd64 (3.2.0+dfsg-4ubuntu0.1+bionic4) over (3.2.0+dfsg-4ubuntu0.1) ...\n",
            "Preparing to unpack .../02-libopencv-flann-dev_3.2.0+dfsg-4ubuntu0.1+bionic4_amd64.deb ...\n",
            "Unpacking libopencv-flann-dev:amd64 (3.2.0+dfsg-4ubuntu0.1+bionic4) over (3.2.0+dfsg-4ubuntu0.1) ...\n",
            "Preparing to unpack .../03-libopencv-flann3.2_3.2.0+dfsg-4ubuntu0.1+bionic4_amd64.deb ...\n",
            "Unpacking libopencv-flann3.2:amd64 (3.2.0+dfsg-4ubuntu0.1+bionic4) over (3.2.0+dfsg-4ubuntu0.1) ...\n",
            "Preparing to unpack .../04-libopencv-ml-dev_3.2.0+dfsg-4ubuntu0.1+bionic4_amd64.deb ...\n",
            "Unpacking libopencv-ml-dev:amd64 (3.2.0+dfsg-4ubuntu0.1+bionic4) over (3.2.0+dfsg-4ubuntu0.1) ...\n",
            "Preparing to unpack .../05-libopencv-ml3.2_3.2.0+dfsg-4ubuntu0.1+bionic4_amd64.deb ...\n",
            "Unpacking libopencv-ml3.2:amd64 (3.2.0+dfsg-4ubuntu0.1+bionic4) over (3.2.0+dfsg-4ubuntu0.1) ...\n",
            "Preparing to unpack .../06-libopencv-viz-dev_3.2.0+dfsg-4ubuntu0.1+bionic4_amd64.deb ...\n",
            "Unpacking libopencv-viz-dev:amd64 (3.2.0+dfsg-4ubuntu0.1+bionic4) over (3.2.0+dfsg-4ubuntu0.1) ...\n",
            "Preparing to unpack .../07-libopencv-shape-dev_3.2.0+dfsg-4ubuntu0.1+bionic4_amd64.deb ...\n",
            "Unpacking libopencv-shape-dev:amd64 (3.2.0+dfsg-4ubuntu0.1+bionic4) over (3.2.0+dfsg-4ubuntu0.1) ...\n",
            "Preparing to unpack .../08-libopencv-video-dev_3.2.0+dfsg-4ubuntu0.1+bionic4_amd64.deb ...\n",
            "Unpacking libopencv-video-dev:amd64 (3.2.0+dfsg-4ubuntu0.1+bionic4) over (3.2.0+dfsg-4ubuntu0.1) ...\n",
            "Preparing to unpack .../09-libopencv-photo-dev_3.2.0+dfsg-4ubuntu0.1+bionic4_amd64.deb ...\n",
            "Unpacking libopencv-photo-dev:amd64 (3.2.0+dfsg-4ubuntu0.1+bionic4) over (3.2.0+dfsg-4ubuntu0.1) ...\n",
            "Preparing to unpack .../10-libopencv-imgproc-dev_3.2.0+dfsg-4ubuntu0.1+bionic4_amd64.deb ...\n",
            "Unpacking libopencv-imgproc-dev:amd64 (3.2.0+dfsg-4ubuntu0.1+bionic4) over (3.2.0+dfsg-4ubuntu0.1) ...\n",
            "Preparing to unpack .../11-libopencv-core-dev_3.2.0+dfsg-4ubuntu0.1+bionic4_amd64.deb ...\n",
            "Unpacking libopencv-core-dev:amd64 (3.2.0+dfsg-4ubuntu0.1+bionic4) over (3.2.0+dfsg-4ubuntu0.1) ...\n",
            "Preparing to unpack .../12-libopencv-viz3.2_3.2.0+dfsg-4ubuntu0.1+bionic4_amd64.deb ...\n",
            "Unpacking libopencv-viz3.2:amd64 (3.2.0+dfsg-4ubuntu0.1+bionic4) over (3.2.0+dfsg-4ubuntu0.1) ...\n",
            "Preparing to unpack .../13-libopencv-shape3.2_3.2.0+dfsg-4ubuntu0.1+bionic4_amd64.deb ...\n",
            "Unpacking libopencv-shape3.2:amd64 (3.2.0+dfsg-4ubuntu0.1+bionic4) over (3.2.0+dfsg-4ubuntu0.1) ...\n",
            "Preparing to unpack .../14-libopencv-video3.2_3.2.0+dfsg-4ubuntu0.1+bionic4_amd64.deb ...\n",
            "Unpacking libopencv-video3.2:amd64 (3.2.0+dfsg-4ubuntu0.1+bionic4) over (3.2.0+dfsg-4ubuntu0.1) ...\n",
            "Preparing to unpack .../15-libopencv-photo3.2_3.2.0+dfsg-4ubuntu0.1+bionic4_amd64.deb ...\n",
            "Unpacking libopencv-photo3.2:amd64 (3.2.0+dfsg-4ubuntu0.1+bionic4) over (3.2.0+dfsg-4ubuntu0.1) ...\n",
            "Preparing to unpack .../16-libopencv-imgproc3.2_3.2.0+dfsg-4ubuntu0.1+bionic4_amd64.deb ...\n",
            "Unpacking libopencv-imgproc3.2:amd64 (3.2.0+dfsg-4ubuntu0.1+bionic4) over (3.2.0+dfsg-4ubuntu0.1) ...\n",
            "Preparing to unpack .../17-libopencv-core3.2_3.2.0+dfsg-4ubuntu0.1+bionic4_amd64.deb ...\n",
            "Unpacking libopencv-core3.2:amd64 (3.2.0+dfsg-4ubuntu0.1+bionic4) over (3.2.0+dfsg-4ubuntu0.1) ...\n",
            "Preparing to unpack .../18-libopencv3.2-java_3.2.0+dfsg-4ubuntu0.1+bionic4_all.deb ...\n",
            "Unpacking libopencv3.2-java (3.2.0+dfsg-4ubuntu0.1+bionic4) over (3.2.0+dfsg-4ubuntu0.1) ...\n",
            "Selecting previously unselected package python3-numpy.\n",
            "Preparing to unpack .../19-python3-numpy_1%3a1.13.3-2ubuntu1_amd64.deb ...\n",
            "Unpacking python3-numpy (1:1.13.3-2ubuntu1) ...\n",
            "Selecting previously unselected package python3-gdal.\n",
            "Preparing to unpack .../20-python3-gdal_3.0.4+dfsg-1~bionic0_amd64.deb ...\n",
            "Unpacking python3-gdal (3.0.4+dfsg-1~bionic0) ...\n",
            "Selecting previously unselected package proj-bin.\n",
            "Preparing to unpack .../21-proj-bin_7.0.0-1~bionic0_amd64.deb ...\n",
            "Unpacking proj-bin (7.0.0-1~bionic0) ...\n",
            "Setting up libgeos-3.8.0:amd64 (3.8.0-1~bionic0) ...\n",
            "Setting up libcfitsio5:amd64 (3.430-2) ...\n",
            "Setting up libcfitsio-dev:amd64 (3.430-2) ...\n",
            "Setting up python3-numpy (1:1.13.3-2ubuntu1) ...\n",
            "Setting up libopencv-core3.2:amd64 (3.2.0+dfsg-4ubuntu0.1+bionic4) ...\n",
            "Setting up gdal-data (3.0.4+dfsg-1~bionic0) ...\n",
            "Setting up libgeos-c1v5:amd64 (3.8.0-1~bionic0) ...\n",
            "Setting up libcharls-dev:amd64 (1.1.0+dfsg-2) ...\n",
            "Setting up libopencv-core-dev:amd64 (3.2.0+dfsg-4ubuntu0.1+bionic4) ...\n",
            "Setting up libzstd-dev:amd64 (1.3.3+dfsg-2ubuntu1.2) ...\n",
            "Setting up libogdi4.1 (4.1.0+ds-1~bionic2) ...\n",
            "Setting up libopencv-ml3.2:amd64 (3.2.0+dfsg-4ubuntu0.1+bionic4) ...\n",
            "Setting up libopencv-ml-dev:amd64 (3.2.0+dfsg-4ubuntu0.1+bionic4) ...\n",
            "Setting up libopencv-imgproc3.2:amd64 (3.2.0+dfsg-4ubuntu0.1+bionic4) ...\n",
            "Setting up libopencv-flann3.2:amd64 (3.2.0+dfsg-4ubuntu0.1+bionic4) ...\n",
            "Setting up libopencv-video3.2:amd64 (3.2.0+dfsg-4ubuntu0.1+bionic4) ...\n",
            "Setting up libopencv-imgproc-dev:amd64 (3.2.0+dfsg-4ubuntu0.1+bionic4) ...\n",
            "Setting up proj-data (7.0.0-1~bionic0) ...\n",
            "Setting up libopencv-photo3.2:amd64 (3.2.0+dfsg-4ubuntu0.1+bionic4) ...\n",
            "Setting up libopencv-ts-dev:amd64 (3.2.0+dfsg-4ubuntu0.1+bionic4) ...\n",
            "Setting up libogdi-dev (4.1.0+ds-1~bionic2) ...\n",
            "Setting up libopencv-photo-dev:amd64 (3.2.0+dfsg-4ubuntu0.1+bionic4) ...\n",
            "Setting up libopencv-flann-dev:amd64 (3.2.0+dfsg-4ubuntu0.1+bionic4) ...\n",
            "Setting up libproj19:amd64 (7.0.0-1~bionic0) ...\n",
            "Setting up libgeos-dev (3.8.0-1~bionic0) ...\n",
            "Setting up libgeotiff5:amd64 (1.5.1-2~bionic2) ...\n",
            "Setting up proj-bin (7.0.0-1~bionic0) ...\n",
            "Setting up libopencv-shape3.2:amd64 (3.2.0+dfsg-4ubuntu0.1+bionic4) ...\n",
            "Setting up libopencv-video-dev:amd64 (3.2.0+dfsg-4ubuntu0.1+bionic4) ...\n",
            "Setting up libopencv-shape-dev:amd64 (3.2.0+dfsg-4ubuntu0.1+bionic4) ...\n",
            "Setting up libproj-dev:amd64 (7.0.0-1~bionic0) ...\n",
            "Setting up libgdal26 (3.0.4+dfsg-1~bionic0) ...\n",
            "Setting up libopencv-imgcodecs3.2:amd64 (3.2.0+dfsg-4ubuntu0.1+bionic4) ...\n",
            "Setting up python3-gdal (3.0.4+dfsg-1~bionic0) ...\n",
            "Setting up libvtk6.3 (6.3.0+dfsg2-2build4~bionic4) ...\n",
            "Setting up gdal-bin (3.0.4+dfsg-1~bionic0) ...\n",
            "Setting up libopencv-videoio3.2:amd64 (3.2.0+dfsg-4ubuntu0.1+bionic4) ...\n",
            "Setting up libgeotiff-dev:amd64 (1.5.1-2~bionic2) ...\n",
            "Setting up libgdal-dev (3.0.4+dfsg-1~bionic0) ...\n",
            "Setting up libopencv-imgcodecs-dev:amd64 (3.2.0+dfsg-4ubuntu0.1+bionic4) ...\n",
            "Setting up libopencv-viz3.2:amd64 (3.2.0+dfsg-4ubuntu0.1+bionic4) ...\n",
            "Setting up libopencv-superres3.2:amd64 (3.2.0+dfsg-4ubuntu0.1+bionic4) ...\n",
            "Setting up libopencv-highgui3.2:amd64 (3.2.0+dfsg-4ubuntu0.1+bionic4) ...\n",
            "Setting up libopencv-videoio-dev:amd64 (3.2.0+dfsg-4ubuntu0.1+bionic4) ...\n",
            "Setting up libopencv-viz-dev:amd64 (3.2.0+dfsg-4ubuntu0.1+bionic4) ...\n",
            "Setting up libopencv-objdetect3.2:amd64 (3.2.0+dfsg-4ubuntu0.1+bionic4) ...\n",
            "Setting up libopencv-highgui-dev:amd64 (3.2.0+dfsg-4ubuntu0.1+bionic4) ...\n",
            "Setting up libopencv-features2d3.2:amd64 (3.2.0+dfsg-4ubuntu0.1+bionic4) ...\n",
            "Setting up libopencv-superres-dev:amd64 (3.2.0+dfsg-4ubuntu0.1+bionic4) ...\n",
            "Setting up libopencv-features2d-dev:amd64 (3.2.0+dfsg-4ubuntu0.1+bionic4) ...\n",
            "Setting up libopencv-calib3d3.2:amd64 (3.2.0+dfsg-4ubuntu0.1+bionic4) ...\n",
            "Setting up libopencv-stitching3.2:amd64 (3.2.0+dfsg-4ubuntu0.1+bionic4) ...\n",
            "Setting up libopencv-calib3d-dev:amd64 (3.2.0+dfsg-4ubuntu0.1+bionic4) ...\n",
            "Setting up libopencv-objdetect-dev:amd64 (3.2.0+dfsg-4ubuntu0.1+bionic4) ...\n",
            "Setting up libopencv-videostab3.2:amd64 (3.2.0+dfsg-4ubuntu0.1+bionic4) ...\n",
            "Setting up libopencv-stitching-dev:amd64 (3.2.0+dfsg-4ubuntu0.1+bionic4) ...\n",
            "Setting up libopencv-contrib3.2:amd64 (3.2.0+dfsg-4ubuntu0.1+bionic4) ...\n",
            "Setting up libopencv-videostab-dev:amd64 (3.2.0+dfsg-4ubuntu0.1+bionic4) ...\n",
            "Setting up libopencv-contrib-dev:amd64 (3.2.0+dfsg-4ubuntu0.1+bionic4) ...\n",
            "Setting up libopencv3.2-jni (3.2.0+dfsg-4ubuntu0.1+bionic4) ...\n",
            "Setting up libopencv3.2-java (3.2.0+dfsg-4ubuntu0.1+bionic4) ...\n",
            "Setting up libopencv-dev (3.2.0+dfsg-4ubuntu0.1+bionic4) ...\n",
            "Processing triggers for man-db (2.8.3-2ubuntu0.1) ...\n",
            "Processing triggers for libc-bin (2.27-3ubuntu1.3) ...\n",
            "/sbin/ldconfig.real: /usr/local/lib/python3.7/dist-packages/ideep4py/lib/libmkldnn.so.0 is not a symbolic link\n",
            "\n",
            "Reading package lists... Done\n",
            "Building dependency tree       \n",
            "Reading state information... Done\n",
            "The following packages were automatically installed and are no longer required:\n",
            "  libgeos-3.6.2 libgeotiff2 libnvidia-common-460 python-numpy\n",
            "Use 'apt autoremove' to remove them.\n",
            "The following additional packages will be installed:\n",
            "  fakeroot grass-doc javascript-common libapr1 libaprutil1 libfakeroot\n",
            "  libjs-jquery libserf-1-1 libsvn1 subversion\n",
            "Suggested packages:\n",
            "  grass-gui e00compr avce00 gnuplot gpsbabel gpstrans netpbm python3-rpy2\n",
            "  python3-six python3-termcolor grass-dev-doc grass apache2 | lighttpd | httpd\n",
            "  db5.3-util libapache2-mod-svn subversion-tools\n",
            "The following NEW packages will be installed:\n",
            "  fakeroot grass-core grass-dev grass-doc javascript-common libapr1\n",
            "  libaprutil1 libfakeroot libjs-jquery libserf-1-1 libsvn1 subversion\n",
            "0 upgraded, 12 newly installed, 0 to remove and 89 not upgraded.\n",
            "Need to get 44.6 MB of archives.\n",
            "After this operation, 85.2 MB of additional disk space will be used.\n",
            "Get:1 http://archive.ubuntu.com/ubuntu bionic/main amd64 libfakeroot amd64 1.22-2ubuntu1 [25.9 kB]\n",
            "Get:2 http://ppa.launchpad.net/ubuntugis/ubuntugis-experimental/ubuntu bionic/main amd64 grass-doc all 8.2.0-1~bionic1 [35.7 MB]\n",
            "Get:3 http://archive.ubuntu.com/ubuntu bionic/main amd64 fakeroot amd64 1.22-2ubuntu1 [62.3 kB]\n",
            "Get:4 http://archive.ubuntu.com/ubuntu bionic/main amd64 libjs-jquery all 3.2.1-1 [152 kB]\n",
            "Get:5 http://archive.ubuntu.com/ubuntu bionic/main amd64 javascript-common all 11 [6,066 B]\n",
            "Get:6 http://archive.ubuntu.com/ubuntu bionic/main amd64 libapr1 amd64 1.6.3-2 [90.9 kB]\n",
            "Get:7 http://archive.ubuntu.com/ubuntu bionic/main amd64 libaprutil1 amd64 1.6.1-2 [84.4 kB]\n",
            "Get:8 http://archive.ubuntu.com/ubuntu bionic/universe amd64 libserf-1-1 amd64 1.3.9-6 [44.4 kB]\n",
            "Get:9 http://archive.ubuntu.com/ubuntu bionic-updates/universe amd64 libsvn1 amd64 1.9.7-4ubuntu1.1 [1,181 kB]\n",
            "Get:10 http://archive.ubuntu.com/ubuntu bionic-updates/universe amd64 subversion amd64 1.9.7-4ubuntu1.1 [834 kB]\n",
            "Get:11 http://ppa.launchpad.net/ubuntugis/ubuntugis-experimental/ubuntu bionic/main amd64 grass-core amd64 8.2.0-1~bionic1 [6,168 kB]\n",
            "Get:12 http://ppa.launchpad.net/ubuntugis/ubuntugis-experimental/ubuntu bionic/main amd64 grass-dev amd64 8.2.0-1~bionic1 [215 kB]\n",
            "Fetched 44.6 MB in 4s (12.4 MB/s)\n",
            "Selecting previously unselected package libfakeroot:amd64.\n",
            "(Reading database ... 156125 files and directories currently installed.)\n",
            "Preparing to unpack .../00-libfakeroot_1.22-2ubuntu1_amd64.deb ...\n",
            "Unpacking libfakeroot:amd64 (1.22-2ubuntu1) ...\n",
            "Selecting previously unselected package fakeroot.\n",
            "Preparing to unpack .../01-fakeroot_1.22-2ubuntu1_amd64.deb ...\n",
            "Unpacking fakeroot (1.22-2ubuntu1) ...\n",
            "Selecting previously unselected package libjs-jquery.\n",
            "Preparing to unpack .../02-libjs-jquery_3.2.1-1_all.deb ...\n",
            "Unpacking libjs-jquery (3.2.1-1) ...\n",
            "Selecting previously unselected package grass-doc.\n",
            "Preparing to unpack .../03-grass-doc_8.2.0-1~bionic1_all.deb ...\n",
            "Unpacking grass-doc (8.2.0-1~bionic1) ...\n",
            "Selecting previously unselected package grass-core.\n",
            "Preparing to unpack .../04-grass-core_8.2.0-1~bionic1_amd64.deb ...\n",
            "Unpacking grass-core (8.2.0-1~bionic1) ...\n",
            "Selecting previously unselected package grass-dev.\n",
            "Preparing to unpack .../05-grass-dev_8.2.0-1~bionic1_amd64.deb ...\n",
            "Unpacking grass-dev (8.2.0-1~bionic1) ...\n",
            "Selecting previously unselected package javascript-common.\n",
            "Preparing to unpack .../06-javascript-common_11_all.deb ...\n",
            "Unpacking javascript-common (11) ...\n",
            "Selecting previously unselected package libapr1:amd64.\n",
            "Preparing to unpack .../07-libapr1_1.6.3-2_amd64.deb ...\n",
            "Unpacking libapr1:amd64 (1.6.3-2) ...\n",
            "Selecting previously unselected package libaprutil1:amd64.\n",
            "Preparing to unpack .../08-libaprutil1_1.6.1-2_amd64.deb ...\n",
            "Unpacking libaprutil1:amd64 (1.6.1-2) ...\n",
            "Selecting previously unselected package libserf-1-1:amd64.\n",
            "Preparing to unpack .../09-libserf-1-1_1.3.9-6_amd64.deb ...\n",
            "Unpacking libserf-1-1:amd64 (1.3.9-6) ...\n",
            "Selecting previously unselected package libsvn1:amd64.\n",
            "Preparing to unpack .../10-libsvn1_1.9.7-4ubuntu1.1_amd64.deb ...\n",
            "Unpacking libsvn1:amd64 (1.9.7-4ubuntu1.1) ...\n",
            "Selecting previously unselected package subversion.\n",
            "Preparing to unpack .../11-subversion_1.9.7-4ubuntu1.1_amd64.deb ...\n",
            "Unpacking subversion (1.9.7-4ubuntu1.1) ...\n",
            "Setting up libjs-jquery (3.2.1-1) ...\n",
            "Setting up libapr1:amd64 (1.6.3-2) ...\n",
            "Setting up grass-doc (8.2.0-1~bionic1) ...\n",
            "Setting up libaprutil1:amd64 (1.6.1-2) ...\n",
            "Setting up libfakeroot:amd64 (1.22-2ubuntu1) ...\n",
            "Setting up javascript-common (11) ...\n",
            "Setting up fakeroot (1.22-2ubuntu1) ...\n",
            "update-alternatives: using /usr/bin/fakeroot-sysv to provide /usr/bin/fakeroot (fakeroot) in auto mode\n",
            "Setting up grass-core (8.2.0-1~bionic1) ...\n",
            "Setting up libserf-1-1:amd64 (1.3.9-6) ...\n",
            "Setting up libsvn1:amd64 (1.9.7-4ubuntu1.1) ...\n",
            "Setting up grass-dev (8.2.0-1~bionic1) ...\n",
            "Setting up subversion (1.9.7-4ubuntu1.1) ...\n",
            "Processing triggers for hicolor-icon-theme (0.17-2) ...\n",
            "Processing triggers for mime-support (3.60ubuntu1) ...\n",
            "Processing triggers for libc-bin (2.27-3ubuntu1.3) ...\n",
            "/sbin/ldconfig.real: /usr/local/lib/python3.7/dist-packages/ideep4py/lib/libmkldnn.so.0 is not a symbolic link\n",
            "\n",
            "Processing triggers for man-db (2.8.3-2ubuntu0.1) ...\n",
            "Looking in indexes: https://pypi.org/simple, https://us-python.pkg.dev/colab-wheels/public/simple/\n",
            "Collecting gdal==3.0.4\n",
            "  Downloading GDAL-3.0.4.tar.gz (577 kB)\n",
            "\u001b[K     |████████████████████████████████| 577 kB 5.0 MB/s \n",
            "\u001b[?25hBuilding wheels for collected packages: gdal\n",
            "  Building wheel for gdal (setup.py) ... \u001b[?25l\u001b[?25hdone\n",
            "  Created wheel for gdal: filename=GDAL-3.0.4-cp37-cp37m-linux_x86_64.whl size=2065960 sha256=38cf4b7c36bae09d18664e1ab7a4c5477b1b504be703b09302e3164569ea318d\n",
            "  Stored in directory: /root/.cache/pip/wheels/fb/6c/d5/db1e3aade3b44a6c9c09df7ab991988e63d6b0b49b26e8d540\n",
            "Successfully built gdal\n",
            "Installing collected packages: gdal\n",
            "  Attempting uninstall: gdal\n",
            "    Found existing installation: GDAL 2.2.2\n",
            "    Uninstalling GDAL-2.2.2:\n",
            "      Successfully uninstalled GDAL-2.2.2\n",
            "Successfully installed gdal-3.0.4\n"
          ]
        }
      ]
    },
    {
      "cell_type": "markdown",
      "metadata": {
        "id": "fhSBac2l6GZX"
      },
      "source": [
        "## 2. Paths and variables, connecting to GRASS GIS backend\n",
        "\n",
        "For the ease of working in this notebook, we define some session variables."
      ]
    },
    {
      "cell_type": "code",
      "execution_count": 3,
      "metadata": {
        "colab": {
          "base_uri": "https://localhost:8080/"
        },
        "id": "CmL7BikN6GZY",
        "outputId": "fed5054a-e3e4-419d-e206-9411cd819740"
      },
      "outputs": [
        {
          "output_type": "stream",
          "name": "stdout",
          "text": [
            "3.0.4\n",
            "/root/odse_workshop2022\n",
            "total 20\n",
            "drwxr-xr-x 4 root root 4096 Jun 13 07:22 .\n",
            "drwx------ 1 root root 4096 Jun 13 07:22 ..\n",
            "drwxr-xr-x 2 root root 4096 Jun 13 07:22 grassdata\n",
            "drwxr-xr-x 2 root root 4096 Jun 13 07:22 sentinel\n"
          ]
        }
      ],
      "source": [
        "# Path variables\n",
        "\n",
        "import os\n",
        "\n",
        "# data directory\n",
        "homedir=os.path.join(os.path.expanduser('~'), \"odse_workshop2022\")\n",
        "\n",
        "# GRASS GIS related variables, adapt path to your's\n",
        "grassdata=os.path.join(homedir, \"grassdata\")\n",
        "location=\"odse_workshop2022\"\n",
        "mapset=\"PERMANENT\"\n",
        "\n",
        "# Sentinel-2 related directories, adapt path to your's\n",
        "s2_data=os.path.join(homedir, \"sentinel\")\n",
        "s2_timestamps=os.path.join(homedir, \"sentinel-timestamps.txt\")\n",
        "\n",
        "# create directories if not already existing\n",
        "!mkdir -p $grassdata\n",
        "!mkdir -p $s2_data\n",
        "\n",
        "# the variables are also accessible via Python\n",
        "print(homedir)\n",
        "\n",
        "# list content\n",
        "!ls -la $homedir"
      ]
    },
    {
      "cell_type": "markdown",
      "metadata": {
        "id": "hCLu_EmE6GZZ"
      },
      "source": [
        "#### Testing the GRASS GIS installation on the system"
      ]
    },
    {
      "cell_type": "code",
      "execution_count": null,
      "metadata": {
        "id": "2JCNASv56GZZ"
      },
      "outputs": [],
      "source": [
        "# Next we test the installation: you will see version and copyright statements\n",
        "!grass --version"
      ]
    },
    {
      "cell_type": "markdown",
      "metadata": {
        "id": "XRtnDiWP6GZa"
      },
      "source": [
        "### Create an empty GRASS GIS location and mapset\n",
        "\n",
        "The GRASS GIS database comes with a structure of folders and subfolders. We create an initial empty folder structure, for now using the GRASS GIS command line (in future also possible with Python). To match the projection of the Sentinel-2 data of Greece used later on, we use [EPSG:32634](http://epsg.io/32634)."
      ]
    },
    {
      "cell_type": "code",
      "execution_count": null,
      "metadata": {
        "id": "GLZiZ5Jz6GZa"
      },
      "outputs": [],
      "source": [
        "# create the GRASS GIS location with CRS set to EPSG:32634, then exit\n",
        "!grass -c epsg:32634 -e $homedir/grassdata/$location"
      ]
    },
    {
      "cell_type": "markdown",
      "source": [
        "## 3. Data upload to Google Colab\n",
        "\n",
        "Besides connecting a Google drive or downloading from remote sources we can also upload data into the running instance with a classical \"Browse\" button from local disk. In Google Colab, the data will then be stored in the `/content/` folder."
      ],
      "metadata": {
        "id": "_Q3de9H48t_c"
      }
    },
    {
      "cell_type": "code",
      "source": [
        "# this generates a \"Browse\" button for data upload to Colab\n",
        "from google.colab import files\n",
        "uploaded = files.upload()"
      ],
      "metadata": {
        "id": "_fTO_da-8yu5"
      },
      "execution_count": null,
      "outputs": []
    },
    {
      "cell_type": "markdown",
      "source": [
        "NOTE: If this \"Browse\" button does not work for you, data can also be uploaded with the sidebar on the left, clicking on the files button (left bottom), then clicking the upload button."
      ],
      "metadata": {
        "id": "P4_jSEcp88YX"
      }
    },
    {
      "cell_type": "markdown",
      "metadata": {
        "id": "fNunejIr6GZc"
      },
      "source": [
        "We will get the following data sets: https://geo.fsv.cvut.cz/geoharmonizer/odse_workshop_2022/grass/geodata.zip\n",
        "\n",
        "We transfer the ZIP file to our notebook instance with `wget`."
      ]
    },
    {
      "cell_type": "code",
      "execution_count": null,
      "metadata": {
        "id": "-1WeTSxE6GZc"
      },
      "outputs": [],
      "source": [
        "# download workshop data into target directory homedir\n",
        "!wget -c https://geo.fsv.cvut.cz/geoharmonizer/odse_workshop_2022/grass/geodata.zip -O $homedir/geodata.zip\n",
        "\n",
        "# unpack workshop data into target directory homedir\n",
        "!unzip -o -d $homedir $homedir/geodata.zip\n",
        "\n",
        "# get extra OSM map\n",
        "!wget -c https://data.neteler.org/tmp/osm_greece_landuse.gpkg -O $homedir/geodata/osm_greece_landuse.gpkg\n",
        "\n",
        "# list uploaded file(s) in target directory homedir\n",
        "!ls $homedir"
      ]
    },
    {
      "cell_type": "markdown",
      "metadata": {
        "id": "GQXBeDKo6GZd"
      },
      "source": [
        "### The data structure is as follows:\n",
        "\n",
        "- geodata/highways.gpkg - Greece\n",
        "- geodata/odse_tiles.gpkg - Geo-harmonizer tiles, The Netherlands and Greece\n",
        "- geodata/dtm_5606.tif - elevation model, Greece (30 km x 30 km)\n",
        "- geodata/dtm_14580.tif - elevation model, The Netherlands (30 km x 30 km)\n",
        "- geodata/osm_greece_landuse.gpkg - OpenStreetMap \"landuse\" extract, Greece\n",
        "- geodata/t34sgh_20_60m/* - three Sentinel-2 scenes, Greece (reduced in size)\n",
        "\n",
        "We will later on look at the data here in the Jupyter notebook session.\n",
        "\n",
        "We are now settled and ready to start the GRASS GIS analysis part."
      ]
    },
    {
      "cell_type": "markdown",
      "metadata": {
        "id": "qJfu55Ms6GZd"
      },
      "source": [
        "## 4. Initialization of GRASS GIS in the Jupyter notebook session"
      ]
    },
    {
      "cell_type": "code",
      "execution_count": null,
      "metadata": {
        "id": "MQopmL4i6GZe"
      },
      "outputs": [],
      "source": [
        "import os\n",
        "import subprocess\n",
        "import sys\n",
        "\n",
        "# We ask GRASS GIS where its Python packages are to be able to start them from the notebook\n",
        "sys.path.append(\n",
        "    subprocess.check_output([\"grass\", \"--config\", \"python_path\"], text=True).strip()\n",
        ")\n",
        "\n",
        "# Import GRASS packages\n",
        "import grass.script as gs\n",
        "import grass.jupyter as gj\n",
        "\n",
        "# Start GRASS Session\n",
        "session = gj.init(grassdata, location, mapset)"
      ]
    },
    {
      "cell_type": "markdown",
      "metadata": {
        "id": "6hmB7XKV6GZe"
      },
      "source": [
        "At this point we are in a running GRASS GIS session, let's verify."
      ]
    },
    {
      "cell_type": "code",
      "execution_count": null,
      "metadata": {
        "id": "HH4iHoJy6GZf"
      },
      "outputs": [],
      "source": [
        "# show current GRASS GIS settings\n",
        "print(gs.read_command(\"g.gisenv\"))"
      ]
    },
    {
      "cell_type": "markdown",
      "metadata": {
        "id": "_b4D9XjD6GZf"
      },
      "source": [
        "## 5. Creating an area of interest map"
      ]
    },
    {
      "cell_type": "markdown",
      "metadata": {
        "id": "okzAwDUH6GZf"
      },
      "source": [
        "Let's create a vector map defined by a 1km buffer around a tile. We first import the tiles vector map `odse_tiles.gpkg`. Note that the CRS of the tiles map (EPSG `4326`) differs from the current location's CRS (EPSG `32634`). It means that GRASS GIS will perform the reprojection of the data into the current location CRS."
      ]
    },
    {
      "cell_type": "code",
      "execution_count": null,
      "metadata": {
        "id": "je2LajMa6GZf"
      },
      "outputs": [],
      "source": [
        "# import\n",
        "gs.run_command(\"v.import\", input=homedir+\"/geodata/odse_tiles.gpkg\", output=\"odse_tiles\")\n",
        "\n",
        "# extract Greece tile from vector map\n",
        "gs.run_command(\"v.extract\", input=\"odse_tiles\", where=\"tile_id = 5606\", output=\"odse_tile_greece\")\n",
        "\n",
        "# show attributes\n",
        "gs.vector_db_select('odse_tile_greece')['values']"
      ]
    },
    {
      "cell_type": "markdown",
      "metadata": {
        "id": "hzdT1oD46GZg"
      },
      "source": [
        "Next we create the 1km buffer around a selected tile, followed by a [Python API](https://grass.osgeo.org/grass-stable/manuals/libpython/grass.script.html?highlight=info%20vector#grass.script.vector.vector_info) metadata query."
      ]
    },
    {
      "cell_type": "code",
      "execution_count": null,
      "metadata": {
        "id": "mMz4JZOe6GZg"
      },
      "outputs": [],
      "source": [
        "# buffer single tile\n",
        "gs.run_command(\"v.buffer\", input=\"odse_tile_greece\", where=\"tile_id = 5606\", distance=\"1000\",\n",
        "               output=\"tile_5606_1km\")\n",
        "\n",
        "# show metadata\n",
        "gs.vector_info(\"tile_5606_1km\")"
      ]
    },
    {
      "cell_type": "markdown",
      "metadata": {
        "id": "Qa__nNR-6GZg"
      },
      "source": [
        "## 6. Importing geodata into GRASS GIS\n",
        "\n",
        "### Importing the highways vector map"
      ]
    },
    {
      "cell_type": "markdown",
      "metadata": {
        "id": "7va3DE5u6GZg"
      },
      "source": [
        "Next we import the highways vector map `highways.gpkg`. Note that the CRS of highways (EPSG `4326`) differs from the current location's CRS (EPSG `32634`). It means that GRASS GIS will perform the reprojection of the data into the current location CRS."
      ]
    },
    {
      "cell_type": "code",
      "execution_count": null,
      "metadata": {
        "id": "S3yy5kzB6GZh"
      },
      "outputs": [],
      "source": [
        "gs.run_command(\"v.import\", input=homedir+\"/geodata/highways.gpkg\", output=\"highways\")\n",
        "gs.vector_info(\"highways\")"
      ]
    },
    {
      "cell_type": "markdown",
      "metadata": {
        "id": "MP6G5ugN6GZi"
      },
      "source": [
        "### Importing the landuse vector map"
      ]
    },
    {
      "cell_type": "markdown",
      "metadata": {
        "id": "NrfxCIzf6GZi"
      },
      "source": [
        "Now we import the landuse vector map `osm_greece_landuse.gpkg` which is based on selected OpenStreetMap tags. Note that the CRS of highways (EPSG `4326`) differs from the current location's CRS (EPSG `32634`). It means that GRASS GIS will perform the reprojection of the data into the current location CRS."
      ]
    },
    {
      "cell_type": "code",
      "execution_count": null,
      "metadata": {
        "id": "VnqmDE_36GZi"
      },
      "outputs": [],
      "source": [
        "gs.run_command(\"v.import\", input=homedir+\"/geodata/osm_greece_landuse.gpkg\", output=\"osm_greece_landuse\")\n",
        "\n",
        "# show topological metadata\n",
        "gs.vector_info_topo(\"osm_greece_landuse\")"
      ]
    },
    {
      "cell_type": "markdown",
      "metadata": {
        "id": "Slvc9hpN6GZj"
      },
      "source": [
        "### Display of imported maps\n",
        "\n",
        "We make use of the `InteractiveMap` tool - interactive visualization with folium."
      ]
    },
    {
      "cell_type": "code",
      "execution_count": null,
      "metadata": {
        "scrolled": false,
        "id": "3nsUDkJk6GZj"
      },
      "outputs": [],
      "source": [
        "greecemap = gj.InteractiveMap(width = 400, tiles=\"OpenStreetMap\")\n",
        "# greecemap.add_vector(\"odse_tile_greece\")\n",
        "# greecemap.add_vector(\"tile_5606_1km\")\n",
        "greecemap.add_vector(\"highways\")\n",
        "greecemap.add_vector(\"osm_greece_landuse\")\n",
        "greecemap.add_layer_control(position = \"bottomright\")\n",
        "greecemap.show()"
      ]
    },
    {
      "cell_type": "markdown",
      "metadata": {
        "id": "Ib373gHy6GZj"
      },
      "source": [
        "## 7. Sentinel-2 processing overview\n",
        "\n",
        "There are plenty of libraries or tools which allow downloading\n",
        "Sentinel products from [Copernicus Open Access Hub](https://scihub.copernicus.eu/).\n",
        "\n",
        "For GRASS GIS there is the [i.sentinel](https://grass.osgeo.org/grass-stable/manuals/addons/i.sentinel.html) toolbox. It consists of six GRASS addon modules:\n",
        "\n",
        "* [i.sentinel.download](https://grass.osgeo.org/grass-stable/manuals/addons/i.sentinel.download.html)\n",
        "* [i.sentinel.import](https://grass.osgeo.org/grass-stable/manuals/addons/i.sentinel.import.html)\n",
        "* [i.sentinel.preproc](https://grass.osgeo.org/grass-stable/manuals/addons/i.sentinel.preproc.html)\n",
        "* [i.sentinel.mask](https://grass.osgeo.org/grass-stable/manuals/addons/i.sentinel.mask.html)\n",
        "* [i.sentinel.coverage](https://grass.osgeo.org/grass-stable/manuals/addons/i.sentinel.coverage.html)\n",
        "* [i.sentinel.parallel.download](https://grass.osgeo.org/grass-stable/manuals/addons/i.sentinel.parallel.download.html)\n",
        "\n",
        "Addons modules can be easily installed via [g.extension](https://grass.osgeo.org/grass-stable/manuals/addons/g.extension.html)."
      ]
    },
    {
      "cell_type": "code",
      "execution_count": null,
      "metadata": {
        "id": "BZmDLc3A6GZj"
      },
      "outputs": [],
      "source": [
        "gs.run_command(\"g.extension\", extension=\"i.sentinel\")"
      ]
    },
    {
      "cell_type": "markdown",
      "metadata": {
        "id": "Rp6ALvdC6GZj"
      },
      "source": [
        "Note that [i.sentinel.download](https://grass.osgeo.org/grass-stable/manuals/addons/i.sentinel.download.html) requires also the [sentinelsat library](https://pypi.python.org/pypi/sentinelsat) to be installed."
      ]
    },
    {
      "cell_type": "code",
      "execution_count": null,
      "metadata": {
        "id": "ew7QEAAD6GZj"
      },
      "outputs": [],
      "source": [
        "!pip3 install sentinelsat"
      ]
    },
    {
      "cell_type": "markdown",
      "metadata": {
        "id": "Ez4birN26GZk"
      },
      "source": [
        "### Select and download of Sentinel-2 data\n",
        "\n",
        "Pre-downloaded Sentinel-2 scenes are available in the [sample dataset](https://geo.fsv.cvut.cz/geoharmonizer/odse_workshop_2022/grass/geodata.zip). Workshop participants can skip the download and continue with section \"Import Sentinel-2 data\", see below.\n",
        "\n",
        "#### Steps to select and download of S2 data (please use the pre-downloaded Sentinel-2 scenes instead!)\n",
        "\n",
        "Let’s download suitable Sentinel products for our area of interest (AOI) and perform a NDVI calculation. AOI region is defined by `tile_5606_1km` created above.\n",
        "\n",
        "[Sentinel-2 L2A products](https://www.sentinel-hub.com/blog/sentinel-2-l2a-products-available-sentinel-hub)\n",
        "will be used to avoid computing atmospheric corrections. Let’s\n",
        "search for the latest available product by means of [i.sentinel.download](https://grass.osgeo.org/grass-stable/manuals/addons/i.sentinel.download.html). Setting the `-l` flag, the result will only\n",
        "be printed. The download procedure will be performed later. In order to\n",
        "search and download Sentinel products from the Copernicus Open Access Hub,\n",
        "you have to create an account first. See the manual page of [i.sentinel.download](https://grass.osgeo.org/grass-stable/manuals/addons/i.sentinel.download.html) module for details. Upload or create a new text\n",
        "file in the data directory (homedir) named `esa_credentials.txt` containing two lines (username and password).\n",
        "\n",
        "#### Note\n",
        "\n",
        "To get username and password you need to register at the [Copernicus Open Access Hub](https://scihub.copernicus.eu/), see the [Register new account](https://scihub.copernicus.eu/dhus/#/self-registration) page for signing up."
      ]
    },
    {
      "cell_type": "code",
      "execution_count": null,
      "metadata": {
        "id": "6zejbN0L6GZl"
      },
      "outputs": [],
      "source": [
        "# list available Sentinel-2 L2A scenes for AOI\n",
        "# note that we use parse_command() in order to intercept the output for display in the browser\n",
        "gs.parse_command(\"i.sentinel.download\", flags=\"l\", map=\"tile_5606_1km\", producttype=\"S2MSI2A\",\n",
        "               settings=homedir+\"/esa_credentials.txt\")"
      ]
    },
    {
      "cell_type": "markdown",
      "metadata": {
        "id": "3UWCmtOg6GZl"
      },
      "source": [
        "This should result into something like:\n",
        "\n",
        "```bash\n",
        "c48f04f2-81d1-4fcc-bb32-97405925d6d4 ... 2022-05-25T09:05:59Z  0% S2MSI2A 1.02 GB\n",
        "4720c028-0163-4aba-92a9-3e53fc4047c5 ... 2022-05-15T09:05:59Z  1% S2MSI2A 985.18 MB\n",
        "0eb10137-025e-402b-a050-7e2919602e61 ... 2022-05-15T09:05:59Z  1% S2MSI2A 1.01 GB\n",
        "...\n",
        "```\n",
        "\n",
        "By default the module returns products for the last 60 days. Let’s change\n",
        "the search period setting `start` and `end` options. We will also\n",
        "limit products by `clouds` coverage percentage threshold and `sort` products\n",
        "by ingestion date.\n"
      ]
    },
    {
      "cell_type": "code",
      "execution_count": null,
      "metadata": {
        "id": "Vv1NMuUD6GZm"
      },
      "outputs": [],
      "source": [
        "gs.parse_command(\"i.sentinel.download\", flags=\"l\", map=\"tile_5606_1km\",\n",
        "               producttype=\"S2MSI2A\", settings=homedir+\"/esa_credentials.txt\",\n",
        "               start=\"2022-02-01\", end=\"2022-05-31\", clouds=\"5\",\n",
        "               sort=\"ingestiondate\")"
      ]
    },
    {
      "cell_type": "markdown",
      "metadata": {
        "id": "D8DguSM46GZm"
      },
      "source": [
        "This should result in:\n",
        "\n",
        "```bash\n",
        "a119f7b0-0020-4229-b0fb-efd0f5bdfb37 ... 2022-02-19T09:10:21Z  0% S2MSI2A 1.02 GB\n",
        "d6e4253d-80e3-49ff-899e-cee19a0ba935 ... 2022-02-19T09:10:21Z  0% S2MSI2A 998.70 MB\n",
        "cdb37429-1c5d-4c67-8ceb-b6c68a33eef6 ... 2022-03-26T09:06:09Z  0% S2MSI2A 1.02 GB\n",
        "...\n",
        "```\n",
        "\n",
        "#### Tip: If more products have been found, you can limit the amount with the `limit` option.\n",
        "\n",
        "\n",
        "Let’s download the desired product(s). Just remove the `-l` flag and add the `output` option in order to define the path to the output directory where data should be saved."
      ]
    },
    {
      "cell_type": "code",
      "execution_count": null,
      "metadata": {
        "id": "9wO8OxGN6GZn"
      },
      "outputs": [],
      "source": [
        "# note: s2_data directory has been defined above\n",
        "\n",
        "## TO BE SKIPPED, we use pre-downloaded data below!\n",
        "#print(\"Storing S2 data in <\"+s2_data+\"> - this takes a few minutes...\")\n",
        "#gs.run_command(\"i.sentinel.download\", map=\"tile_5606_1km\", producttype=\"S2MSI2A\",\n",
        "#               settings=homedir+\"/esa_credentials.txt\", start=\"2022-02-01\", end=\"2022-05-31\",\n",
        "#               clouds=\"5\", output=s2_data)"
      ]
    },
    {
      "cell_type": "markdown",
      "metadata": {
        "id": "eN3SrvOu6GZn"
      },
      "source": [
        "### Importing Sentinel-2 data\n",
        "\n",
        "Before importing or linking Sentinel-2 data we print a list of\n",
        "filtered raster files including projection match (second column, 1 for\n",
        "match, otherwise 0). If the CRS of input data differs from the current location\n",
        "consider reprojection (`-r`) or creating a new location for import.\n",
        "\n",
        "*Important*: Data will be imported into the new location by means of the [i.sentinel.import](https://grass.osgeo.org/grass-stable/manuals/addons/i.sentinel.import.html) tool. The command will import **all** Sentinel bands from `input` directory\n",
        "recursively. Before importing data let’s check content of the input directory by `-p` flag."
      ]
    },
    {
      "cell_type": "code",
      "execution_count": null,
      "metadata": {
        "id": "wFr2uFFI6GZo"
      },
      "outputs": [],
      "source": [
        "# Check list of pre-downloaded Sentinel-2 scenes, with i.sentinel.import\n",
        "gs.parse_command(\"i.sentinel.import\", flags=\"p\", input=homedir+\"/geodata/t34sgh_20_60m\")"
      ]
    },
    {
      "cell_type": "markdown",
      "metadata": {
        "id": "8kxO4KK16GZo"
      },
      "source": [
        "This should result in (projection match in second column: 1 for match, otherwise 0):\n",
        "\n",
        "```bash\n",
        ".../R20m/T34SGH_20210828T090549_B03_20m.jp2 1 (EPSG: 32634)\n",
        ".../R20m/T34SGH_20210828T090549_B04_20m.jp2 1 (EPSG: 32634)\n",
        ".../R20m/T34SGH_20210828T090549_B8A_20m.jp2 1 (EPSG: 32634)\n",
        "...\n",
        "```\n",
        "\n",
        "In the example below, we limit the S2 data import to the RGB and NIR bands (2, 3, 4, 8A) in 20m spatial resolution by the `pattern` option."
      ]
    },
    {
      "cell_type": "code",
      "execution_count": null,
      "metadata": {
        "id": "vq1V34k76GZo"
      },
      "outputs": [],
      "source": [
        "gs.parse_command(\"i.sentinel.import\", flags=\"p\", input=homedir+\"/geodata/t34sgh_20_60m\", pattern=\"B(02|03|04|8A)_20m\")"
      ]
    },
    {
      "cell_type": "markdown",
      "metadata": {
        "id": "y8xNozUD6GZo"
      },
      "source": [
        "This should result in:\n",
        "\n",
        "```bash\n",
        ".../R20m/T34SGH_20210828T090549_B8A_20m.jp2 1 (EPSG: 32634)\n",
        ".../R20m/T34SGH_20210828T090549_B04_20m.jp2 1 (EPSG: 32634)\n",
        ".../R20m/T34SGH_20210624T090601_B04_20m.jp2 1 (EPSG: 32634)\n",
        ".../R20m/T34SGH_20210624T090601_B8A_20m.jp2 1 (EPSG: 32634)\n",
        ".../R20m/T34SGH_20210729T090559_B04_20m.jp2 1 (EPSG: 32634)\n",
        ".../R20m/T34SGH_20210729T090559_B8A_20m.jp2 1 (EPSG: 32634)\n",
        "```\n",
        "\n",
        "By default, input data are imported into GRASS data format.\n",
        "Alternatively, data can be linked if `-l` is given. It is also\n",
        "useful to import cloud mask vector features by `-c` flag. We also use\n",
        "`register_output` option to produce a timestamp plain text file\n",
        "which will be used in [section 07](07.rst)."
      ]
    },
    {
      "cell_type": "code",
      "execution_count": null,
      "metadata": {
        "id": "wXVxkO1G6GZp"
      },
      "outputs": [],
      "source": [
        "# use 2GB of RAM for faster operations, s2_timestamps defined above\n",
        "# this takes up to a few minutes...\n",
        "gs.parse_command(\"i.sentinel.import\", flags=\"c\", input=homedir+\"/geodata/t34sgh_20_60m\",\n",
        "               pattern=\"B(02|03|04|8A)_20m\", memory=2000, register_output=s2_timestamps)\n",
        "\n",
        "# print timestamp file for inspection\n",
        "f = open(s2_timestamps, 'r')\n",
        "content = f. read()\n",
        "print(content)\n",
        "f. close()"
      ]
    },
    {
      "cell_type": "markdown",
      "metadata": {
        "id": "_CVugAno6GZp"
      },
      "source": [
        "#### Semantic labels\n",
        "\n",
        "A fairly new concept within GRASS GIS is semantic labels. These are especially relevant for satellite imagery as they allow us to identify to which sensor and band a given raster corresponds. These labels are particularly relevant when working with satellite image collections and also when classifying different scenes."
      ]
    },
    {
      "cell_type": "code",
      "execution_count": null,
      "metadata": {
        "id": "HUt6iW7H6GZq"
      },
      "outputs": [],
      "source": [
        "# print semantic labels\n",
        "for i in gs.list_grouped(type=\"raster\")['PERMANENT']:\n",
        "    label = gs.raster_info(map=i)['semantic_label']\n",
        "    print('Map: {}, Semantic label: {}'.format(i,label))"
      ]
    },
    {
      "cell_type": "markdown",
      "metadata": {
        "id": "O2oSNEid6GZq"
      },
      "source": [
        "<!-- ???\n",
        "Lets copy our AOI (`tile_5606_1km`) from *odse_workshop_2022*\n",
        "location to the current one (see [Part 1 Data Management](03.rst)).\n",
        "-->\n",
        "\n",
        "## 8. Computing NDVI\n",
        "\n",
        "To compute [NDVI - Normalized difference vegetation index](http://en.wikipedia.org/wiki/NDVI),\n",
        "the red (VIS) and near-infrared (NIR) channels are required. In the case\n",
        "of Sentinel-2, these are the 4th and 8th band, respectively.\n",
        "\n",
        "<code>NDVI = (NIR - VIS) / (NIR  + VIS)</code>\n",
        "\n",
        "Before computing, let’s set up the computational region based on the tile map."
      ]
    },
    {
      "cell_type": "code",
      "execution_count": null,
      "metadata": {
        "id": "jrdIcBDB6GZr"
      },
      "outputs": [],
      "source": [
        "# note that we use parse_command() to immediately see the printed computational region\n",
        "gs.parse_command(\"g.region\", vector=\"tile_5606_1km\", flags=\"p\")\n",
        "gs.run_command(\"v.in.region\", output=\"greece_box\")\n",
        "gs.parse_command(\"g.region\", vector=\"greece_box\", align=\"T34SGH_20210624T090601_B04_20m\", flags=\"p\")"
      ]
    },
    {
      "cell_type": "markdown",
      "metadata": {
        "id": "202QJLV-6GZr"
      },
      "source": [
        "NDVI can be computed via the [i.vi](https://grass.osgeo.org/grass-stable/manuals/i.vi.html)\n",
        "tool which allows computing various vegetation indices."
      ]
    },
    {
      "cell_type": "code",
      "execution_count": null,
      "metadata": {
        "id": "2CLYrDnP6GZr"
      },
      "outputs": [],
      "source": [
        "gs.run_command(\"i.vi\", red=\"T34SGH_20210624T090601_B04_20m\", viname=\"ndvi\",\n",
        "               nir=\"T34SGH_20210624T090601_B8A_20m\", output=\"ndvi\")"
      ]
    },
    {
      "cell_type": "markdown",
      "metadata": {
        "id": "s_zjzTDy6GZs"
      },
      "source": [
        "Add semantic label for NDVI:"
      ]
    },
    {
      "cell_type": "code",
      "execution_count": null,
      "metadata": {
        "id": "Lb9IzW-96GZs"
      },
      "outputs": [],
      "source": [
        "gs.run_command(\"r.support\", map=\"ndvi\", semantic_label=\"S2_NDVI\")\n",
        "gs.raster_info(map=\"ndvi\")[\"semantic_label\"]"
      ]
    },
    {
      "cell_type": "markdown",
      "metadata": {
        "id": "C4SE0QLP6GZs"
      },
      "source": [
        "### Displaying the NDVI map in Folium (Leaflet)"
      ]
    },
    {
      "cell_type": "code",
      "execution_count": null,
      "metadata": {
        "id": "BDS2L_Kz6GZt"
      },
      "outputs": [],
      "source": [
        "# Display newly created NDVI map\n",
        "ndvimap = gj.InteractiveMap(width = 400, tiles=\"OpenStreetMap\")\n",
        "ndvimap.add_raster(\"ndvi\", opacity=0.8)\n",
        "ndvimap.add_vector(\"tile_5606_1km\")\n",
        "# ndvimap.add_vector(\"greece_box\")\n",
        "ndvimap.add_layer_control(position = \"bottomright\")\n",
        "ndvimap.show()"
      ]
    },
    {
      "cell_type": "markdown",
      "metadata": {
        "id": "XeMcxOTV6GZt"
      },
      "source": [
        "## 9. Time series data processing"
      ]
    },
    {
      "cell_type": "markdown",
      "metadata": {
        "id": "3BsHn8Za6GZt"
      },
      "source": [
        "### A few concepts of time series data processing in GRASS GIS\n",
        "\n",
        "GRASS GIS offers specialized tools for spatio-temporal data\n",
        "processing, see GRASS documentation [temporalintro](https://grass.osgeo.org/grass-stable/manuals/temporalintro.html) for details.\n",
        "\n",
        "GRASS introduces three special data types that are designed to handle\n",
        "time-series data:\n",
        "\n",
        "* *Space-time raster datasets* (`strds`) for managing raster map\n",
        "  time series.\n",
        "\n",
        "* *Space-time 3D raster datasets* (`str3ds`) for managing 3D raster\n",
        "  map time series.\n",
        "\n",
        "* *Space-time vector datasets* (`stvds`) for managing vector map time\n",
        "  series."
      ]
    },
    {
      "cell_type": "markdown",
      "metadata": {
        "id": "AaLnAJfh6GZt"
      },
      "source": [
        "### Create space-time dataset\n",
        "\n",
        "At this moment a new space-time dataset can be created by means of [t.create](https://grass.osgeo.org/grass-stable/manuals/t.create.html) and all imported Sentinel bands registered with [t.register](https://grass.osgeo.org/grass-stable/manuals/t.register.html)."
      ]
    },
    {
      "cell_type": "code",
      "execution_count": null,
      "metadata": {
        "id": "3dlO5ncH6GZu"
      },
      "outputs": [],
      "source": [
        "gs.run_command(\"t.create\", output=\"s2_tile_5606\", title=\"Sentinel L2A 2021\", desc=\"Tile 5606\")\n",
        "gs.run_command(\"t.register\", input=\"s2_tile_5606\", file=s2_timestamps)"
      ]
    },
    {
      "cell_type": "markdown",
      "metadata": {
        "id": "NCqgmJac6GZu"
      },
      "source": [
        "Let’s check basic metadata (see [t.info](https://grass.osgeo.org/grass-stable/manuals/t.info.html)) and list the registered maps ([t.rast.list](https://grass.osgeo.org/grass-stable/manuals/t.rast.list.html))."
      ]
    },
    {
      "cell_type": "code",
      "execution_count": null,
      "metadata": {
        "id": "v9PvOM-V6GZu"
      },
      "outputs": [],
      "source": [
        "gs.parse_command(\"t.info\", input=\"s2_tile_5606\")"
      ]
    },
    {
      "cell_type": "markdown",
      "metadata": {
        "id": "OOzb_xSA6GZu"
      },
      "source": [
        "This should result in:\n",
        "```bash\n",
        "...\n",
        "| ... ------ Space Time Raster Dataset ------- ...\n",
        "...\n",
        "| Id: ...... s2_tile_5606@PERMANENT\n",
        "...\n",
        "| ... ------ Absolute time ------- ...\n",
        "...\n",
        "| Start time:................. 2021-06-24 09:19:52.607078\n",
        "| End time:................... 2021-08-28 09:19:49.080855\n",
        "...\n",
        "| ... ------ Metadata information ------- ...\n",
        "...\n",
        "| Number of registered maps:.. 12\n",
        "```"
      ]
    },
    {
      "cell_type": "markdown",
      "metadata": {
        "id": "Rbp8FKXH6GZv"
      },
      "source": [
        "### List registered bands in space-time cube"
      ]
    },
    {
      "cell_type": "code",
      "execution_count": null,
      "metadata": {
        "id": "ysN-ohrV6GZv"
      },
      "outputs": [],
      "source": [
        "gs.parse_command(\"t.rast.list\", input=\"s2_tile_5606\")"
      ]
    },
    {
      "cell_type": "markdown",
      "metadata": {
        "id": "R6grxHpm6GZw"
      },
      "source": [
        "This should result in:\n",
        "\n",
        "```bash\n",
        "name|mapset|start_time|end_time\n",
        "T34SGH_20210624T090601_B04_20m|PERMANENT|2021-06-24 09:19:52.607078|None\n",
        "T34SGH_20210624T090601_B8A_20m|PERMANENT|2021-06-24 09:19:52.607078|None\n",
        "...\n",
        "T34SGH_20210729T090559_B04_20m|PERMANENT|2021-07-29 09:19:53.186492|None\n",
        "T34SGH_20210729T090559_B8A_20m|PERMANENT|2021-07-29 09:19:53.186492|None\n",
        "T34SGH_20210828T090549_B04_20m|PERMANENT|2021-08-28 09:19:49.080855|None\n",
        "T34SGH_20210828T090549_B8A_20m|PERMANENT|2021-08-28 09:19:49.080855|None\n",
        "```"
      ]
    },
    {
      "cell_type": "markdown",
      "metadata": {
        "id": "o2vNKeoe6GZw"
      },
      "source": [
        "### NDVI Space-Time computation\n",
        "\n",
        "For NDVI computation 4th and 8th bands are required. Map algebra for spatio-temporal data is performed by [t.rast.algebra](https://grass.osgeo.org/grass-stable/manuals/t.rast.algebra.html) which requires bands separated into different spatio-temporal datasets. Such datasets can\n",
        "be prepared by [t.rast.extract](https://grass.osgeo.org/grass-stable/manuals/t.rast.extract.html)."
      ]
    },
    {
      "cell_type": "code",
      "execution_count": null,
      "metadata": {
        "id": "JABHaiSm6GZw"
      },
      "outputs": [],
      "source": [
        "gs.run_command(\"t.rast.extract\", input=\"s2_tile_5606\", where=\"name like '%B04%'\", output=\"s2_b4\")\n",
        "gs.run_command(\"t.rast.extract\", input=\"s2_tile_5606\", where=\"name like '%B8A%'\", output=\"s2_b8\")"
      ]
    },
    {
      "cell_type": "markdown",
      "metadata": {
        "id": "PvJWslHc6GZx"
      },
      "source": [
        "Let’s check content of the new datasets by [t.rast.list](https://grass.osgeo.org/grass-stable/manuals/t.rast.list.html)."
      ]
    },
    {
      "cell_type": "code",
      "execution_count": null,
      "metadata": {
        "id": "I4mBlBN56GZx"
      },
      "outputs": [],
      "source": [
        "gs.parse_command(\"t.rast.list\", input=\"s2_b4\")"
      ]
    },
    {
      "cell_type": "code",
      "execution_count": null,
      "metadata": {
        "id": "-a5KgWhp6GZx"
      },
      "outputs": [],
      "source": [
        "gs.parse_command(\"t.rast.list\", input=\"s2_b8\")"
      ]
    },
    {
      "cell_type": "markdown",
      "metadata": {
        "id": "P8_PF4dU6GZx"
      },
      "source": [
        "Set the computational region by [g.region](https://grass.osgeo.org/grass-stable/manuals/g.region.html)\n",
        "including a mask for the area of interest by [r.mask](https://grass.osgeo.org/grass-stable/manuals/r.mask.html)."
      ]
    },
    {
      "cell_type": "code",
      "execution_count": null,
      "metadata": {
        "id": "YjXZVQpy6GZx"
      },
      "outputs": [],
      "source": [
        "gs.parse_command(\"g.region\", vector=\"tile_5606_1km\", align=\"T34SGH_20210624T090601_B04_20m\", flags=\"p\")\n",
        "gs.run_command(\"r.mask\", vector=\"tile_5606_1km\")"
      ]
    },
    {
      "cell_type": "markdown",
      "metadata": {
        "id": "JsvQ0Lux6GZx"
      },
      "source": [
        "NOTE: NDVI (see above) computation on spatio-temporal datasets can be performed in parallel (`nproc` parameter)."
      ]
    },
    {
      "cell_type": "code",
      "execution_count": null,
      "metadata": {
        "id": "69ULPe4A6GZx"
      },
      "outputs": [],
      "source": [
        "gs.run_command(\"t.rast.algebra\", basename=\"ndvi\", nproc=\"2\",\n",
        "               expression=\"ndvi = float(s2_b8 - s2_b4) / ( s2_b8 + s2_b4 )\")"
      ]
    },
    {
      "cell_type": "markdown",
      "metadata": {
        "id": "3GgNRIyE6GZx"
      },
      "source": [
        "When computation is finished *ndvi* color table can be set with [t.rast.colors](https://grass.osgeo.org/grass-stable/manuals/t.rast.colors.html)."
      ]
    },
    {
      "cell_type": "code",
      "execution_count": null,
      "metadata": {
        "id": "l51dS0bp6GZy"
      },
      "outputs": [],
      "source": [
        "gs.run_command(\"t.rast.colors\", input=\"ndvi\", color=\"ndvi\")"
      ]
    },
    {
      "cell_type": "markdown",
      "metadata": {
        "id": "LI844gLH6GZy"
      },
      "source": [
        "#### Show metadata of NDVI time series"
      ]
    },
    {
      "cell_type": "code",
      "execution_count": null,
      "metadata": {
        "id": "yuZthJkF6GZy"
      },
      "outputs": [],
      "source": [
        "gs.parse_command(\"t.info\", input=\"ndvi\")"
      ]
    },
    {
      "cell_type": "markdown",
      "metadata": {
        "id": "zbzCwt8Z6GZy"
      },
      "source": [
        "### Query time series"
      ]
    },
    {
      "cell_type": "code",
      "execution_count": null,
      "metadata": {
        "id": "qvKbAjHN6GZz"
      },
      "outputs": [],
      "source": [
        "# query region center coordinates for query, in UTM34N\n",
        "gs.parse_command(\"g.region\", flags=\"c\")"
      ]
    },
    {
      "cell_type": "code",
      "execution_count": null,
      "metadata": {
        "id": "ztZmxYza6GZz"
      },
      "outputs": [],
      "source": [
        "# query map at center coordinates\n",
        "gs.parse_command(\"t.rast.what\", strds=\"ndvi\", coordinates=\"748800,4226800\", layout=\"col\", flags=\"n\")"
      ]
    },
    {
      "cell_type": "markdown",
      "metadata": {
        "id": "9kGTZ_UB6GZz"
      },
      "source": [
        "### Display NDVI time series in Folium (Leaflet)\n",
        "\n",
        "\n",
        "Note: [TimeSeriesMap()](https://grass.osgeo.org/grass-stable/manuals/libpython/grass.jupyter.html?highlight=timeseriesmap#module-grass.jupyter.timeseriesmap) of `grass.jupyter` is still experimental and under development.\n"
      ]
    },
    {
      "cell_type": "code",
      "execution_count": null,
      "metadata": {
        "id": "ZKAPeUKl6GZ0"
      },
      "outputs": [],
      "source": [
        "### TO BE SKIPPED - in GRASS GIS 8.2.0 it takes \"forever\", bugfix pending.\n",
        "\n",
        "\n",
        "## reduce resolution for faster display of time series, save original first for later\n",
        "#gs.parse_command(\"g.region\", save=\"default_res\")\n",
        "#gs.parse_command(\"g.region\", flags=\"pa\", res=50)\n",
        "# \n",
        "## Display newly created NDVI time series map\n",
        "#ndviseries = gj.TimeSeriesMap(use_region=True)\n",
        "#ndviseries.add_raster_series(\"ndvi\", fill_gaps=False)\n",
        "#ndviseries.d_legend(color=\"black\", at=(10,40,2,6))\n",
        "#ndviseries.d_barscale()\n",
        "#ndviseries.show()  # Create TimeSlider\n",
        "\n",
        "# optionally, write out to animated GIF\n",
        "# ndviseries.save(\"image.gif\")\n",
        "\n",
        "## restore original region\n",
        "#gs.parse_command(\"g.region\", region=\"default_res\")"
      ]
    },
    {
      "cell_type": "markdown",
      "metadata": {
        "id": "mF-VUiKf6GZ0"
      },
      "source": [
        "## 10. Supervised Classification: RandomForest\n",
        "\n",
        "We will now demonstrate the workflow to perform a supervised RandomForest classification from training polygons in GRASS GIS. First we inspect the available S2 input bands."
      ]
    },
    {
      "cell_type": "code",
      "execution_count": null,
      "metadata": {
        "id": "mNgSvxMs6GZ0"
      },
      "outputs": [],
      "source": [
        "gs.parse_command(\"g.list\", type=\"raster\")"
      ]
    },
    {
      "cell_type": "code",
      "execution_count": null,
      "metadata": {
        "id": "094mj6qX6GZ0"
      },
      "outputs": [],
      "source": [
        "s2map = gj.Map(width=400, use_region=True)\n",
        "# show as a static map\n",
        "s2map.d_rgb(red=\"T34SGH_20210624T090601_B04_20m\", \n",
        "              green=\"T34SGH_20210624T090601_B03_20m\", \n",
        "              blue=\"T34SGH_20210624T090601_B02_20m\")\n",
        "s2map.show()\n",
        "\n",
        "# ... this will expectedly look very dark. Color balancing next!"
      ]
    },
    {
      "cell_type": "code",
      "execution_count": null,
      "metadata": {
        "id": "1_M2OYrx6GaE"
      },
      "outputs": [],
      "source": [
        "# perform color auto-balancing for RGB bands\n",
        "gs.run_command(\"i.colors.enhance\", \n",
        "               red=\"T34SGH_20210624T090601_B04_20m\",\n",
        "               green=\"T34SGH_20210624T090601_B03_20m\", \n",
        "               blue=\"T34SGH_20210624T090601_B02_20m\",\n",
        "               strength=90)\n",
        "\n",
        "# display again\n",
        "s2map = gj.Map(width=400, use_region=True)\n",
        "s2map.d_rgb(red=\"T34SGH_20210624T090601_B04_20m\", \n",
        "              green=\"T34SGH_20210624T090601_B03_20m\", \n",
        "              blue=\"T34SGH_20210624T090601_B02_20m\")\n",
        "s2map.d_vect(map=\"osm_greece_landuse\")\n",
        "s2map.show()"
      ]
    },
    {
      "cell_type": "markdown",
      "metadata": {
        "id": "zSqXxEVS6GaE"
      },
      "source": [
        "#### Stack of maps = image group\n",
        "\n",
        "When you work with a stack of raster maps (e.g., R-G-B channels or more) in GRASS GIS, you can best handle this stack by creating a group. It is just based on metadata, so it does not take up more disk space."
      ]
    },
    {
      "cell_type": "code",
      "execution_count": null,
      "metadata": {
        "id": "tBb4ZcRJ6GaE"
      },
      "outputs": [],
      "source": [
        "# generate list of selected S2 maps\n",
        "s2_maps = gs.list_grouped(type=\"raster\", pattern=\"*20210624T090601*\")['PERMANENT']\n",
        "print(s2_maps)\n",
        "\n",
        "# create group and subgroup with S2 bands\n",
        "gs.run_command(\"i.group\", group=\"s2\", subgroup=\"s2\", input=s2_maps)\n",
        "gs.parse_command(\"i.group\", group=\"s2\", flags=\"l\")"
      ]
    },
    {
      "cell_type": "markdown",
      "metadata": {
        "id": "Q4TQMlKn6GaE"
      },
      "source": [
        "### Creation of a training map by sampling from existing data\n",
        "\n",
        "We will perform stratified sampling on the `osm_greece_landuse` map which is an incomplete extract from [OpenStreetMap](https://www.openstreetmap.org/#map=11/38.2050/23.8266) by using selected tags (aiming at matching the CORINE legend).\n",
        "\n",
        "As a first step we rasterize the map, matching the pixel geometry of the Sentinel-2 red band."
      ]
    },
    {
      "cell_type": "code",
      "execution_count": null,
      "metadata": {
        "id": "pLV77s166GaF"
      },
      "outputs": [],
      "source": [
        "# define pixel geometry for new raster map: extent from vector map,\n",
        "# pixel position and size from Sentinel-2 20m band)\n",
        "gs.parse_command(\"g.region\", vector=\"osm_greece_landuse\",\n",
        "                 align=\"T34SGH_20210624T090601_B04_20m\", flags=\"p\")"
      ]
    },
    {
      "cell_type": "code",
      "execution_count": null,
      "metadata": {
        "id": "D-vhfapO6GaF"
      },
      "outputs": [],
      "source": [
        "# list column names of vector map\n",
        "gs.vector_columns(\"osm_greece_landuse\")"
      ]
    },
    {
      "cell_type": "code",
      "execution_count": null,
      "metadata": {
        "id": "T64CZEWQ6GaF"
      },
      "outputs": [],
      "source": [
        "# now we convert the landuse map from vector to raster model to simplify the next steps\n",
        "# (names may be identical since the data type is different)\n",
        "gs.run_command(\"v.to.rast\", input=\"osm_greece_landuse\", output=\"osm_greece_landuse\", \n",
        "               use=\"attr\", attribute_column=\"CORINE_class\", label_column=\"landuse\")"
      ]
    },
    {
      "cell_type": "markdown",
      "metadata": {
        "id": "6e-0s3Tp6GaG"
      },
      "source": [
        "#### Simplification of the training classes\n",
        "\n",
        "Since we have (in this example) only a few Sentinel-2 bands available, we will simplify the legend prior to using the training data for the training of the model:\n",
        "\n",
        "- 11 12 = 11 urban\n",
        "- 13    = 13 agriculture\n",
        "- 14 21 22 23 32 = 14 greenland\n",
        "- 31    = 31 forest\n",
        "- 51    = 51 water\n",
        "- all other  = NULL"
      ]
    },
    {
      "cell_type": "code",
      "execution_count": null,
      "metadata": {
        "id": "Xkv0qpzL6GaG"
      },
      "outputs": [],
      "source": [
        "# to simplify teaching life, we just download the class redefinition file\n",
        "!wget -c https://data.neteler.org/tmp/lulc_rules.recl -O $homedir/lulc_rules.recl"
      ]
    },
    {
      "cell_type": "code",
      "execution_count": null,
      "metadata": {
        "id": "sId6Vk9X6GaG"
      },
      "outputs": [],
      "source": [
        "# Way 1: use Python\n",
        "#rules = [\"11 12 = 11 urban\", \"13 = 13 agriculture\", \"14 21 22 23 32 = 14 greenland\", \"31 = 31 forest\", \"* = NULL\"]\n",
        "#p = gs.feed_command(\"r.reclass\", input=\"landuse_train\", output=\"landuse_train_simplified2\",\n",
        "#                          rules=\"-\")\n",
        "#p.stdin.write(\"\\n\".join(rules).encode())\n",
        "#p.stdin.close()\n",
        "\n",
        "# Way 2: use the rules file which we downloaded\n",
        "# raster map: apply class simplification\n",
        "gs.run_command(\"r.reclass\", input=\"osm_greece_landuse\", output=\"osm_greece_landuse_simplified\",\n",
        "                 rules=homedir+\"/lulc_rules.recl\")"
      ]
    },
    {
      "cell_type": "code",
      "execution_count": null,
      "metadata": {
        "id": "lmmxXVgM6GaH"
      },
      "outputs": [],
      "source": [
        "# check raster categories of simplified training map\n",
        "gs.parse_command(\"r.category\", map=\"osm_greece_landuse_simplified\", separator=\"comma\")"
      ]
    },
    {
      "cell_type": "code",
      "execution_count": null,
      "metadata": {
        "id": "pCWrXjW86GaH"
      },
      "outputs": [],
      "source": [
        "# set colors\n",
        "colours = [\"11 195:20:0\", \"13 255,255,168\", \"14 100:240:100\", \"31 77:105:0\", \"51 0:204:242\"]\n",
        "colourise = gs.feed_command(\"r.colors\", map=\"osm_greece_landuse_simplified\", rules=\"-\", quiet=True)\n",
        "colourise.stdin.write(\"\\n\".join(colours).encode())\n",
        "colourise.stdin.close()"
      ]
    },
    {
      "cell_type": "code",
      "execution_count": null,
      "metadata": {
        "scrolled": true,
        "id": "zxv8DwXT6GaJ"
      },
      "outputs": [],
      "source": [
        "# display newly created raster map\n",
        "osmlulc = gj.InteractiveMap(width = 400, use_region=True, tiles=\"OpenStreetMap\")\n",
        "osmlulc.add_raster(\"osm_greece_landuse_simplified\", opacity=0.8)\n",
        "osmlulc.add_layer_control(position = \"bottomright\")\n",
        "osmlulc.show()"
      ]
    },
    {
      "cell_type": "code",
      "execution_count": null,
      "metadata": {
        "scrolled": true,
        "id": "Z7Pnn_Le6GaJ"
      },
      "outputs": [],
      "source": [
        "# show simple legend\n",
        "legend = gj.Map(width=400, use_region=True)\n",
        "# at=bottom,top,left,right, percentage of screen coordinates (0,0 is lower left)\n",
        "legend.d_legend(raster=\"osm_greece_landuse_simplified\", title=\"Classes\",\n",
        "                fontsize=20, at=(20, 80, 20, 80), flags=\"n\")\n",
        "legend.show()"
      ]
    },
    {
      "cell_type": "markdown",
      "metadata": {
        "id": "38yJ0Qy56GaK"
      },
      "source": [
        "### Random sampling from rasterized simplified landuse map\n",
        "\n",
        "We now perform stratified sampling, i.e. we extract for each land use class `n` sampling points, using the GRASS GIS addon [r.sample.category](https://grass.osgeo.org/grass-stable/manuals/addons/r.sample.category.html).\n",
        "\n",
        "First, we install this addon."
      ]
    },
    {
      "cell_type": "code",
      "execution_count": null,
      "metadata": {
        "id": "xgXCjIXW6GaK"
      },
      "outputs": [],
      "source": [
        "gs.run_command(\"g.extension\", extension=\"r.sample.category\")"
      ]
    },
    {
      "cell_type": "code",
      "execution_count": null,
      "metadata": {
        "id": "8Wj44r4L6GaK"
      },
      "outputs": [],
      "source": [
        "# stratified random sampling, generated vector points\n",
        "gs.run_command(\"r.sample.category\", input=\"osm_greece_landuse_simplified\", output=\"landuse_train\", n=\"150\")"
      ]
    },
    {
      "cell_type": "code",
      "execution_count": null,
      "metadata": {
        "id": "YmRENJIF6GaL"
      },
      "outputs": [],
      "source": [
        "# display newly created vector points map\n",
        "train = gj.InteractiveMap(width = 400, use_region=True)\n",
        "train.add_raster(\"osm_greece_landuse_simplified\", opacity=0.7)\n",
        "train.add_vector(\"landuse_train\")\n",
        "train.add_layer_control(position = \"bottomright\")\n",
        "train.show()"
      ]
    },
    {
      "cell_type": "code",
      "execution_count": null,
      "metadata": {
        "id": "kpZJo_wG6GaL"
      },
      "outputs": [],
      "source": [
        "# list column names of vector points map\n",
        "gs.vector_columns(\"landuse_train\", getDict=False)"
      ]
    },
    {
      "cell_type": "code",
      "execution_count": null,
      "metadata": {
        "id": "MNzP0g_M6GaL"
      },
      "outputs": [],
      "source": [
        "# show vector attribute table\n",
        "gs.vector_db_select(\"landuse_train\")"
      ]
    },
    {
      "cell_type": "markdown",
      "metadata": {
        "id": "2zf1FHwP6GaL"
      },
      "source": [
        "Since the machine learning classifier expects raster points, we convert the vector sampling points accordingly using  [v.to.rast](https://grass.osgeo.org/grass-stable/manuals/v.to.rast.html)."
      ]
    },
    {
      "cell_type": "code",
      "execution_count": null,
      "metadata": {
        "id": "pNVaxONh6GaL"
      },
      "outputs": [],
      "source": [
        "# convert points from vector to raster model\n",
        "# (names may remain identical since the data type is different)\n",
        "gs.run_command(\"v.to.rast\", input=\"landuse_train\", output=\"landuse_train\", \n",
        "               use=\"attr\", attribute_column=\"osm_greece_landuse_simplified\", label_column=\"label\")"
      ]
    },
    {
      "cell_type": "code",
      "execution_count": null,
      "metadata": {
        "id": "iF52qAFg6GaL"
      },
      "outputs": [],
      "source": [
        "# check raster categories\n",
        "gs.parse_command(\"r.category\", map=\"landuse_train\", separator=\"comma\")"
      ]
    },
    {
      "cell_type": "code",
      "execution_count": null,
      "metadata": {
        "id": "q7l8dYlV6GaM"
      },
      "outputs": [],
      "source": [
        "# Show univariate statistics\n",
        "gs.parse_command(\"r.univar\", map=\"landuse_train\", flags=\"g\")"
      ]
    },
    {
      "cell_type": "code",
      "execution_count": null,
      "metadata": {
        "id": "f2Z6QeFK6GaM"
      },
      "outputs": [],
      "source": [
        "# display newly created raster map\n",
        "# NOTE: zoom in to spot the raster sampling points ;-)\n",
        "train = gj.InteractiveMap(width = 400, use_region=True)\n",
        "train.add_raster(\"landuse_train\", opacity=0.8)\n",
        "train.add_layer_control(position = \"bottomright\")\n",
        "train.show()"
      ]
    },
    {
      "cell_type": "markdown",
      "metadata": {
        "id": "mvA1olWG6GaM"
      },
      "source": [
        "### Perform machine learning model training (RandomForest)\n",
        "\n",
        "First we have to install the [r.learn.ml2](https://grass.osgeo.org/grass-stable/manuals/addons/r.learn.ml2.html) extention. It consists of two modules: `r.learn.train` and `r.learn.predict`."
      ]
    },
    {
      "cell_type": "code",
      "execution_count": null,
      "metadata": {
        "id": "WNgnxqdz6GaM"
      },
      "outputs": [],
      "source": [
        "# install ML extension\n",
        "gs.run_command(\"g.extension\", extension=\"r.learn.ml2\")"
      ]
    },
    {
      "cell_type": "markdown",
      "metadata": {
        "id": "C9rndGwl6GaN"
      },
      "source": [
        "We now train the ML model using [r.learn.train](https://grass.osgeo.org/grass-stable/manuals/addons/r.learn.train.html), with model \"RandomForestClassifier\"."
      ]
    },
    {
      "cell_type": "code",
      "execution_count": null,
      "metadata": {
        "id": "06bn90yv6GaN"
      },
      "outputs": [],
      "source": [
        "# train a random forest classification model using r.learn.train\n",
        "gs.run_command(\"r.learn.train\", group=\"s2\", training_map=\"landuse_train\",\n",
        "               model_name=\"RandomForestClassifier\",\n",
        "               n_estimators=\"500\", save_model=homedir+\"/rf_model.gz\")"
      ]
    },
    {
      "cell_type": "markdown",
      "metadata": {
        "id": "8zHWPTRf6GaN"
      },
      "source": [
        " The model has been stored in the file `rf_model.gz` for use in the prediction step of the supervised classification."
      ]
    },
    {
      "cell_type": "code",
      "execution_count": null,
      "metadata": {
        "id": "QcDYEAPV6GaN"
      },
      "outputs": [],
      "source": [
        "!ls -la $homedir"
      ]
    },
    {
      "cell_type": "markdown",
      "metadata": {
        "id": "_nZdbFd26GaN"
      },
      "source": [
        "### Perform ML supervised classification\n",
        "\n",
        "The trained model will now be applied to the entire dataset."
      ]
    },
    {
      "cell_type": "code",
      "execution_count": null,
      "metadata": {
        "id": "02wLVLX-6GaO"
      },
      "outputs": [],
      "source": [
        "# perform prediction using r.learn.predict\n",
        "gs.run_command(\"r.learn.predict\", group=\"s2\", load_model=homedir+\"/rf_model.gz\", output=\"sentinel_rf\")"
      ]
    },
    {
      "cell_type": "markdown",
      "metadata": {
        "id": "4B0CCFDn6GaO"
      },
      "source": [
        "Add some styling: category labels and colors (colors inspired by CORINE land cover map legend)\n",
        "\n",
        "class | R:G:B | label\n",
        "- 11 195:20:0 urban\n",
        "- 13 255,255,168 agriculture\n",
        "- 14 100:240:100 greenland\n",
        "- 31 77:105:0 forest\n",
        "- 51 0:204:242 water"
      ]
    },
    {
      "cell_type": "code",
      "execution_count": null,
      "metadata": {
        "id": "8JrhapTT6GaO"
      },
      "outputs": [],
      "source": [
        "# set colors\n",
        "colours = [\"11 195:20:0\", \"13 255,255,168\", \"14 100:240:100\", \"31 77:105:0\", \"51 0:204:242\"]\n",
        "colourise = gs.feed_command(\"r.colors\", map=\"sentinel_rf\", rules=\"-\", quiet=True)\n",
        "colourise.stdin.write(\"\\n\".join(colours).encode())\n",
        "colourise.stdin.close()"
      ]
    },
    {
      "cell_type": "markdown",
      "metadata": {
        "id": "GXXHgnUd6GaO"
      },
      "source": [
        "With this the (oversimplified) supervised classification has been completed and we can display the result."
      ]
    },
    {
      "cell_type": "markdown",
      "metadata": {
        "id": "KqNX58a06GaO"
      },
      "source": [
        "### Supervised classification: reporting and display"
      ]
    },
    {
      "cell_type": "code",
      "execution_count": null,
      "metadata": {
        "id": "QosrLRn96GaP"
      },
      "outputs": [],
      "source": [
        "# Display newly created sentinel_rf map\n",
        "map = gj.InteractiveMap(width = 400, tiles=\"OpenStreetMap\")\n",
        "map.add_raster(\"sentinel_rf\", opacity=0.8)\n",
        "map.add_layer_control(position = \"bottomright\")\n",
        "map.show()"
      ]
    },
    {
      "cell_type": "code",
      "execution_count": null,
      "metadata": {
        "id": "LacWln1x6GaP"
      },
      "outputs": [],
      "source": [
        "# show simple legend\n",
        "legend = gj.Map(width=400, use_region=True)\n",
        "# at=bottom,top,left,right, percentage of screen coordinates (0,0 is lower left)\n",
        "legend.d_legend(raster=\"sentinel_rf\", title=\"Classes\",\n",
        "                fontsize=20, at=(10, 90, 10, 90), flags=\"n\")\n",
        "legend.show()"
      ]
    },
    {
      "cell_type": "code",
      "execution_count": null,
      "metadata": {
        "id": "tIJQEYxS6GaP"
      },
      "outputs": [],
      "source": [
        "# Show class distribution in percent\n",
        "gs.parse_command(\"r.report\", map=\"sentinel_rf\", units=\"p\", flags=\"h\")"
      ]
    },
    {
      "cell_type": "code",
      "execution_count": null,
      "metadata": {
        "id": "2umAAQ0H6GaQ"
      },
      "outputs": [],
      "source": [
        "# export map to COG\n",
        "gs.run_command(\"r.out.gdal\", flags=\"fmt\", input=\"sentinel_rf\", output=homedir+\"/greece_sentinel2_RF.tif\",\n",
        "               format=\"COG\", overviews=\"4\") "
      ]
    },
    {
      "cell_type": "markdown",
      "metadata": {
        "id": "1W9yoDGM6GaR"
      },
      "source": [
        "Keep in mind, this classification was just a simplified example to show how the procedure may work."
      ]
    },
    {
      "cell_type": "markdown",
      "metadata": {
        "id": "T-6Igljt6GaR"
      },
      "source": [
        "## 11. What's next?\n",
        "\n",
        "You may enjoy more Jupyter notebooks at\n",
        "\n",
        "https://github.com/OSGeo/grass/tree/main/doc/notebooks\n",
        "\n",
        "### Talk to us\n",
        "\n",
        "- Martin Landa, PhD, https://geo.fsv.cvut.cz/gwiki/Ing._Martin_Landa,_Ph.D.\n",
        "- Markus Neteler, PhD, https://www.mundialis.de/en/neteler/"
      ]
    }
  ],
  "metadata": {
    "kernelspec": {
      "display_name": "Python 3",
      "language": "python",
      "name": "python3"
    },
    "language_info": {
      "codemirror_mode": {
        "name": "ipython",
        "version": 3
      },
      "file_extension": ".py",
      "mimetype": "text/x-python",
      "name": "python",
      "nbconvert_exporter": "python",
      "pygments_lexer": "ipython3",
      "version": "3.10.4"
    },
    "colab": {
      "name": "sentinel2_grass_gis_colab2.ipynb",
      "provenance": []
    }
  },
  "nbformat": 4,
  "nbformat_minor": 0
}