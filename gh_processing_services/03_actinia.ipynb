{
 "cells": [
  {
   "cell_type": "markdown",
   "id": "ebb5b119",
   "metadata": {},
   "source": [
    "# Handson\n",
    "\n",
    "Link: <https://metzm.github.io/actinia-introduction/>"
   ]
  },
  {
   "cell_type": "markdown",
   "id": "a1d4cb6b",
   "metadata": {},
   "source": [
    "# GH service\n",
    "\n",
    "Query JSON:\n",
    "\n",
    "```json\n",
    "{\n",
    "  \"version\": \"1\",\n",
    "  \"list\": \n",
    "  [\n",
    "    {\n",
    "      \"module\": \"r.aq_pm25_aggregate\",\n",
    "      \"id\": \"aq_pm25_aggregate_1804289383\",\n",
    "      \"inputs\":[\n",
    "         {\"param\": \"start_date\", \"value\": \"2018-01-01\"},\n",
    "         {\"param\": \"end_date\", \"value\": \"2018-01-15\"}\n",
    "       ],\n",
    "       \"outputs\":\n",
    "       [\n",
    "         {\n",
    "           \"export\": {\"format\": \"COG\", \"type\": \"raster\"},\n",
    "           \"param\": \"pm_out\",\n",
    "\t   \"value\": \"pm25_aggr\"\n",
    "         }\n",
    "       ]\n",
    "    }\n",
    "  ]\n",
    "}\n",
    "\n",
    "```"
   ]
  }
 ],
 "metadata": {
  "kernelspec": {
   "display_name": "Python 3 (ipykernel)",
   "language": "python",
   "name": "python3"
  },
  "language_info": {
   "codemirror_mode": {
    "name": "ipython",
    "version": 3
   },
   "file_extension": ".py",
   "mimetype": "text/x-python",
   "name": "python",
   "nbconvert_exporter": "python",
   "pygments_lexer": "ipython3",
   "version": "3.10.4"
  }
 },
 "nbformat": 4,
 "nbformat_minor": 5
}
