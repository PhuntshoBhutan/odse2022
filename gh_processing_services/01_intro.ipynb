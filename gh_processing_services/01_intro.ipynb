{
 "cells": [
  {
   "cell_type": "markdown",
   "id": "2236dac6",
   "metadata": {},
   "source": [
    "# Introduction into geoprocessing services\n",
    "\n",
    "TBD"
   ]
  },
  {
   "cell_type": "markdown",
   "id": "dcc11d3c",
   "metadata": {},
   "source": [
    "## OGC services\n",
    "\n",
    "### OGC WPS\n",
    "\n",
    "@martinl\n",
    "\n",
    "### OGC API - Processes\n",
    "\n",
    "@ondrejp"
   ]
  },
  {
   "cell_type": "markdown",
   "id": "942757f3",
   "metadata": {},
   "source": [
    "## REST API\n",
    "\n",
    "@markusn"
   ]
  }
 ],
 "metadata": {
  "kernelspec": {
   "display_name": "Python 3 (ipykernel)",
   "language": "python",
   "name": "python3"
  },
  "language_info": {
   "codemirror_mode": {
    "name": "ipython",
    "version": 3
   },
   "file_extension": ".py",
   "mimetype": "text/x-python",
   "name": "python",
   "nbconvert_exporter": "python",
   "pygments_lexer": "ipython3",
   "version": "3.10.4"
  }
 },
 "nbformat": 4,
 "nbformat_minor": 5
}
