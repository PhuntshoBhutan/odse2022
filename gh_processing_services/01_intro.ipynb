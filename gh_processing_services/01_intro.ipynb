{
 "cells": [
  {
   "cell_type": "markdown",
   "id": "2236dac6",
   "metadata": {},
   "source": [
    "# Introduction into geoprocessing services\n",
    "\n",
    "https://metzm.github.io/actinia-introduction/2_concepts/"
   ]
  },
  {
   "cell_type": "markdown",
   "id": "dcc11d3c",
   "metadata": {},
   "source": [
    "## OGC services\n",
    "\n"
   ]
  },
  {
   "cell_type": "markdown",
   "id": "4944c01d",
   "metadata": {},
   "source": [
    "### OGC WPS\n",
    "\n",
    "TBD @martinl\n",
    "\n",
    "##### Request examples\n",
    "\n",
    "* GetCapabilities: http://157.90.183.85:8080/services/wps?service=wps&request=getcapabilities\n",
    "* DescribeProcess: http://157.90.183.85:8080/services/wps?service=wps&version=1.0.0&request=describeprocess&identifier=aq-pm-aggregate\n",
    "* Execute: http://157.90.183.85:8080/services/wps?service=wps&version=1.0.0&request=execute&identifier=aq-pm-aggregate&datainputs=start_date=2018-01-01;end_date=2018-01-14"
   ]
  },
  {
   "cell_type": "markdown",
   "id": "f97cd07d",
   "metadata": {},
   "source": [
    "### OGC API - Processes\n",
    "\n",
    "*The OGC API — Processes Standard supports the wrapping of computational tasks into executable processes that can be offered by a server through a Web API and be invoked by a client application. The standard specifies a processing interface to communicate over a RESTful protocol using JavaScript Object Notation (JSON) encodings. The standard leverages concepts from the OGC Web Processing Service (WPS) 2.0 Interface Standard but does not require implementation of a WPS.*\n",
    "\n",
    "*While the WPS standard was designed with spatial processing in mind, the standard could also be used to readily insert non-spatial processing tasks into a web services environment.*\n",
    "\n",
    "*The OGC API — Processes Standard is a newer and more modern way of programming and interacting with resources over the web while allowing better integration into existing software packages. The OGC API — Processes Standard addresses all of the use cases that were addressed by the WPS Standard, while also leveraging the OpenAPI specification and a resource-oriented approach.*\n",
    "\n",
    "The standard is described (and the text was taken from) [here](https://docs.ogc.org/is/18-062r2/18-062r2.html). The document was published in December 2021."
   ]
  },
  {
   "cell_type": "markdown",
   "id": "e7e38478",
   "metadata": {},
   "source": [
    "In the following examples, an example client running at <geolabs.fr> is being used."
   ]
  },
  {
   "cell_type": "markdown",
   "id": "e710c783",
   "metadata": {},
   "source": [
    "**HOME** request\n",
    "\n",
    "The landing page provides links to the API definition, the Conformance statements and the metadata about the processes offered by this service:\n",
    "\n",
    "http://tb17.geolabs.fr:8088/ogc-api/"
   ]
  },
  {
   "cell_type": "markdown",
   "id": "ef4e5e97",
   "metadata": {},
   "source": [
    "**GetCapabilities** request\n",
    "\n",
    "Information about the available processes.\n",
    "\n",
    "http://tb17.geolabs.fr:8088/ogc-api/processes"
   ]
  },
  {
   "cell_type": "markdown",
   "id": "9b7df4a8",
   "metadata": {},
   "source": [
    "**jobList** request\n",
    "\n",
    "A list of jobs run.\n",
    "\n",
    "http://tb17.geolabs.fr:8088/ogc-api/jobs"
   ]
  },
  {
   "cell_type": "markdown",
   "id": "8c97c4b0",
   "metadata": {},
   "source": [
    "**job** request\n",
    "\n",
    "TBD @ondrejp\n",
    "\n",
    "http://tb17.geolabs.fr:8088/ogc-api/job/"
   ]
  },
  {
   "cell_type": "markdown",
   "id": "942757f3",
   "metadata": {},
   "source": [
    "## REST API\n",
    "\n",
    "https://metzm.github.io/actinia-introduction/2_concepts/#rest-api-and-geoprocessing-basics"
   ]
  }
 ],
 "metadata": {
  "kernelspec": {
   "display_name": "Python 3 (ipykernel)",
   "language": "python",
   "name": "python3"
  },
  "language_info": {
   "codemirror_mode": {
    "name": "ipython",
    "version": 3
   },
   "file_extension": ".py",
   "mimetype": "text/x-python",
   "name": "python",
   "nbconvert_exporter": "python",
   "pygments_lexer": "ipython3",
   "version": "3.9.9"
  }
 },
 "nbformat": 4,
 "nbformat_minor": 5
}
