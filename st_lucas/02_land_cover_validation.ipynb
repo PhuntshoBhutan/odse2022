{
  "cells": [
    {
      "cell_type": "markdown",
      "id": "f6b4fb29",
      "metadata": {
        "id": "f6b4fb29"
      },
      "source": [
        "# Land Cover Validation with LUCAS dataset"
      ]
    },
    {
      "cell_type": "markdown",
      "id": "61c43ba2",
      "metadata": {
        "id": "61c43ba2"
      },
      "source": [
        "This is an example of a land cover product validation using LUCAS points. The process is using the class `Validator` to perform the main validation steps. "
      ]
    },
    {
      "cell_type": "code",
      "execution_count": null,
      "id": "c5b6d920",
      "metadata": {
        "id": "c5b6d920"
      },
      "outputs": [],
      "source": [
        "!pip3 install geopandas pyyaml==6.0 ipyleaflet \n",
        "print(\"INSTALLATION COMPLETED\")"
      ]
    },
    {
      "cell_type": "markdown",
      "source": [
        "Now **we have to restart runtime**: `Runtime -> Restart runtime`"
      ],
      "metadata": {
        "id": "GkWH_uKh8sl8"
      },
      "id": "GkWH_uKh8sl8"
    },
    {
      "cell_type": "code",
      "source": [
        "import os\n",
        "import sys\n",
        "import yaml \n",
        "\n",
        "from osgeo import gdal\n",
        "from osgeo import gdalconst\n",
        "import geopandas as gpd\n",
        "import numpy \n",
        "import urllib\n",
        "import httpimport\n",
        "\n",
        "import matplotlib.pyplot as plt \n",
        "%matplotlib inline\n",
        "\n",
        "!git clone https://gitlab.com/geoharmonizer_inea/odse-workshop-2022.git\n",
        "!(cd odse-workshop-2022/; git pull)\n",
        "sys.path.insert(0, './odse-workshop-2022/st_lucas')\n",
        "from validator import Validator"
      ],
      "metadata": {
        "id": "2tJuyMGs89M6"
      },
      "id": "2tJuyMGs89M6",
      "execution_count": null,
      "outputs": []
    },
    {
      "cell_type": "markdown",
      "id": "bd684782",
      "metadata": {
        "id": "bd684782"
      },
      "source": [
        "### Configure validation \n",
        "\n",
        "Check contents of the `config.yaml` file. "
      ]
    },
    {
      "cell_type": "code",
      "execution_count": null,
      "id": "69bef016",
      "metadata": {
        "id": "69bef016"
      },
      "outputs": [],
      "source": [
        "# configuration with sample data \n",
        "config_file = \"odse-workshop-2022/st_lucas/sample_land_cover/config.yaml\"\n",
        "\n",
        "with open(config_file, 'r') as file: \n",
        "    file_contents = file.read()\n",
        "    \n",
        "print(file_contents)"
      ]
    },
    {
      "cell_type": "markdown",
      "id": "2910653b",
      "metadata": {
        "id": "2910653b"
      },
      "source": [
        "### Initialize the validator "
      ]
    },
    {
      "cell_type": "markdown",
      "id": "874f9348",
      "metadata": {
        "id": "874f9348"
      },
      "source": [
        "Initilize the validator by passing the config file or a Python dictionary with the same structure"
      ]
    },
    {
      "cell_type": "code",
      "execution_count": null,
      "id": "fbd60738",
      "metadata": {
        "id": "fbd60738"
      },
      "outputs": [],
      "source": [
        "validation = Validator(config_file)"
      ]
    },
    {
      "cell_type": "markdown",
      "id": "2c46e609",
      "metadata": {
        "id": "2c46e609"
      },
      "source": [
        "### Check validity of the inputs"
      ]
    },
    {
      "cell_type": "code",
      "execution_count": null,
      "id": "8f217242",
      "metadata": {
        "id": "8f217242"
      },
      "outputs": [],
      "source": [
        "# Check if you can read the geodata \n",
        "\n",
        "inputs_valid = validation.check_inputs()\n",
        "print('Validation data ready: {}'.format(inputs_valid))"
      ]
    },
    {
      "cell_type": "code",
      "execution_count": null,
      "id": "d20976e6",
      "metadata": {
        "id": "d20976e6"
      },
      "outputs": [],
      "source": [
        "# Check contents of the raster and vector geodata \n",
        "\n",
        "with open(config_file) as file:\n",
        "    cfg = yaml.load(file, Loader=yaml.FullLoader)\n",
        "    \n",
        "# Vector data\n",
        "vector_fn = os.path.join(cfg['input']['path'], cfg['input']['in_vec'])\n",
        "gdf = gpd.read_file(vector_fn)\n",
        "\n",
        "gdf.head()"
      ]
    },
    {
      "cell_type": "code",
      "execution_count": null,
      "id": "8e06365c-9050-4a85-9505-dce1e7334796",
      "metadata": {
        "id": "8e06365c-9050-4a85-9505-dce1e7334796"
      },
      "outputs": [],
      "source": [
        "# Check the legend\n",
        "\n",
        "legend_file = 'odse-workshop-2022/st_lucas/sample_land_cover/legend.yaml'\n",
        "\n",
        "with open(legend_file, \"r\") as file: \n",
        "    legend = file.read()\n",
        "print(legend)"
      ]
    },
    {
      "cell_type": "code",
      "execution_count": null,
      "id": "9c62233d",
      "metadata": {
        "id": "9c62233d"
      },
      "outputs": [],
      "source": [
        "# view distribution of the classes \n",
        "\n",
        "attribute = cfg['input']['ref_att']\n",
        "gdf[attribute].value_counts().plot.pie(figsize=(7, 7), autopct='%1.1f%%')"
      ]
    },
    {
      "cell_type": "code",
      "execution_count": null,
      "id": "0bce4e9f-3e28-496b-94d2-a6f3882afef4",
      "metadata": {
        "id": "0bce4e9f-3e28-496b-94d2-a6f3882afef4"
      },
      "outputs": [],
      "source": [
        "# Show a map of the data\n",
        "\n",
        "from ipyleaflet import Map, GeoData, basemaps, LayersControl\n",
        "\n",
        "gdf_4326 = gdf.to_crs(\"EPSG:4326\")\n",
        "center = gdf_4326.dissolve().centroid\n",
        "\n",
        "m = Map(center=(float(center.y), float(center.x)), zoom = 7, basemap= basemaps.OpenStreetMap.Mapnik)\n",
        "\n",
        "lucas_gd = GeoData(geo_dataframe = gdf_4326,\n",
        "                   style={'color': 'black', 'fillColor': '#3366cc', 'opacity':0.05, 'weight':1.9, 'dashArray':'2', 'fillOpacity':0.6},\n",
        "                   point_style={'radius': 2, 'color': 'red', 'fillOpacity': 0.8, 'fillColor': 'blue', 'weight': 3},\n",
        "                   name='LUCAS points')\n",
        "\n",
        "m.add_layer(lucas_gd)\n",
        "m.add_control(LayersControl())\n",
        "\n",
        "m"
      ]
    },
    {
      "cell_type": "markdown",
      "id": "8ce5be84",
      "metadata": {
        "id": "8ce5be84"
      },
      "source": [
        "### Run land cover map and reference overlay"
      ]
    },
    {
      "cell_type": "code",
      "execution_count": null,
      "id": "2d6a0d78",
      "metadata": {
        "id": "2d6a0d78"
      },
      "outputs": [],
      "source": [
        "validation.overlay()"
      ]
    },
    {
      "cell_type": "markdown",
      "id": "2072e116",
      "metadata": {
        "id": "2072e116"
      },
      "source": [
        "### Report the validation results "
      ]
    },
    {
      "cell_type": "code",
      "execution_count": null,
      "id": "9ccac8c8",
      "metadata": {
        "id": "9ccac8c8"
      },
      "outputs": [],
      "source": [
        "# short report\n",
        "validation.short_report()"
      ]
    },
    {
      "cell_type": "code",
      "execution_count": null,
      "id": "f22c7b7c",
      "metadata": {
        "scrolled": false,
        "id": "f22c7b7c"
      },
      "outputs": [],
      "source": [
        "# full report\n",
        "validation.report()"
      ]
    },
    {
      "cell_type": "code",
      "execution_count": null,
      "id": "d84f06e2",
      "metadata": {
        "id": "d84f06e2"
      },
      "outputs": [],
      "source": [
        "# Save the validation report to a text file for a future use\n",
        "validation.save_report()"
      ]
    },
    {
      "cell_type": "markdown",
      "id": "a97c79d8",
      "metadata": {
        "id": "a97c79d8"
      },
      "source": [
        "### Plot confusion matrix"
      ]
    },
    {
      "cell_type": "code",
      "execution_count": null,
      "id": "6d27da8b",
      "metadata": {
        "id": "6d27da8b"
      },
      "outputs": [],
      "source": [
        "validation.show_confusion_matrix()"
      ]
    },
    {
      "cell_type": "code",
      "execution_count": null,
      "id": "e2167482-35a5-4eb6-9f0b-22c436285fcb",
      "metadata": {
        "id": "e2167482-35a5-4eb6-9f0b-22c436285fcb"
      },
      "outputs": [],
      "source": [
        "# Check the legend again\n",
        "\n",
        "print(legend)"
      ]
    },
    {
      "cell_type": "code",
      "execution_count": null,
      "id": "45f3ac1c",
      "metadata": {
        "id": "45f3ac1c"
      },
      "outputs": [],
      "source": [
        "# Save the confusion matrix\n",
        "\n",
        "validation.save_normalized_confusion_matrix()"
      ]
    },
    {
      "cell_type": "code",
      "execution_count": null,
      "id": "a6993cc9",
      "metadata": {
        "id": "a6993cc9"
      },
      "outputs": [],
      "source": [
        "# You can also save the plots into the validation directory for later use \n",
        "validation.save_confusion_matrix()\n",
        "validation.save_normalized_confusion_matrix()"
      ]
    },
    {
      "cell_type": "markdown",
      "id": "131c2d95",
      "metadata": {
        "id": "131c2d95"
      },
      "source": [
        "### Save the validation overlay geodata to a vector"
      ]
    },
    {
      "cell_type": "markdown",
      "id": "5e1a5113",
      "metadata": {
        "id": "5e1a5113"
      },
      "source": [
        " You can "
      ]
    },
    {
      "cell_type": "code",
      "execution_count": null,
      "id": "2b5e15a2",
      "metadata": {
        "id": "2b5e15a2"
      },
      "outputs": [],
      "source": [
        "validation.save_vec()"
      ]
    },
    {
      "cell_type": "markdown",
      "id": "7ca28629-1471-484d-851f-22db3ee241d0",
      "metadata": {
        "id": "7ca28629-1471-484d-851f-22db3ee241d0"
      },
      "source": [
        "### Classes aggregation "
      ]
    },
    {
      "cell_type": "code",
      "execution_count": null,
      "id": "05d440e6-9c24-4a7a-8742-beaed6f81903",
      "metadata": {
        "id": "05d440e6-9c24-4a7a-8742-beaed6f81903"
      },
      "outputs": [],
      "source": [
        "config_aggregation = {\n",
        "    'project':\n",
        "      {'name': 'Geoharmonizer Land Cover validation', \n",
        "      'abbrev': 'cz_lc_18', \n",
        "      'run_id': '20210907'\n",
        "      }, \n",
        "    'input':\n",
        "      {'path': './odse-workshop-2022/st_lucas/sample_land_cover', \n",
        "      'in_ras': 'cz_land_cover_osm_2018.tif', \n",
        "      'ndv': 0, \n",
        "      'legend': 'legend.yaml', \n",
        "      'in_vec': 'cz_lucas_points_l1_2018.shp', \n",
        "      'ref_att': 'label_l1'\n",
        "      }, \n",
        "    'report':\n",
        "      {'path': './odse-workshop-2022/st_lucas/sample_land_cover', \n",
        "      'dir_name': 'lc_2018_validation_aggregation'\n",
        "      }, \n",
        "    'validation_points': \n",
        "      {'file_name': 'validation_points', \n",
        "       'ogr_format': 'ESRI Shapefile',\n",
        "       'epsg': 3035 \n",
        "      }\n",
        "}"
      ]
    },
    {
      "cell_type": "code",
      "execution_count": null,
      "id": "737f549a-eb33-4d13-ad07-e6441d2437f1",
      "metadata": {
        "id": "737f549a-eb33-4d13-ad07-e6441d2437f1"
      },
      "outputs": [],
      "source": [
        "validation_lc_aggregated = Validator(config_aggregation)"
      ]
    },
    {
      "cell_type": "code",
      "execution_count": null,
      "id": "90e21ce6-b581-4c7d-8e0c-78c42e8d8f50",
      "metadata": {
        "id": "90e21ce6-b581-4c7d-8e0c-78c42e8d8f50"
      },
      "outputs": [],
      "source": [
        "# 2: agriculture (arable land & grassland)\n",
        "aggregartion = {\n",
        "    2: [2, 6]\n",
        "}"
      ]
    },
    {
      "cell_type": "code",
      "execution_count": null,
      "id": "65e5cf8a-33c7-4016-b87b-de68ca903cad",
      "metadata": {
        "id": "65e5cf8a-33c7-4016-b87b-de68ca903cad"
      },
      "outputs": [],
      "source": [
        "validation_lc_aggregated.overlay(aggregartion)"
      ]
    },
    {
      "cell_type": "code",
      "execution_count": null,
      "id": "799cba14-708e-46e3-912e-37aec3d49c6a",
      "metadata": {
        "id": "799cba14-708e-46e3-912e-37aec3d49c6a"
      },
      "outputs": [],
      "source": [
        "validation_lc_aggregated.report()"
      ]
    },
    {
      "cell_type": "code",
      "execution_count": null,
      "id": "738b3fe6-53fa-4ecd-9028-46e5e6c1ad91",
      "metadata": {
        "id": "738b3fe6-53fa-4ecd-9028-46e5e6c1ad91"
      },
      "outputs": [],
      "source": [
        "validation_lc_aggregated.show_confusion_matrix()"
      ]
    }
  ],
  "metadata": {
    "kernelspec": {
      "display_name": "Python 3 (ipykernel)",
      "language": "python",
      "name": "python3"
    },
    "language_info": {
      "codemirror_mode": {
        "name": "ipython",
        "version": 3
      },
      "file_extension": ".py",
      "mimetype": "text/x-python",
      "name": "python",
      "nbconvert_exporter": "python",
      "pygments_lexer": "ipython3",
      "version": "3.10.4"
    },
    "colab": {
      "name": "02_land_cover_validation.ipynb",
      "provenance": [],
      "collapsed_sections": []
    }
  },
  "nbformat": 4,
  "nbformat_minor": 5
}