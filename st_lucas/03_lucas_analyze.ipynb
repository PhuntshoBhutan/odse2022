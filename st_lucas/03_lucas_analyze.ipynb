{
  "cells": [
    {
      "cell_type": "markdown",
      "id": "62332b33",
      "metadata": {
        "id": "62332b33"
      },
      "source": [
        "# Analyze LUCAS data\n",
        "First of all, let's install `st_lucas` Python package. \n",
        "\n",
        "In the case that this notebook is run in [Google Colab](https://colab.research.google.com/), additional steps are needed. Google Colab comes with GDAL 2.2. We have to update this library to version 3.0. It will takes a while."
      ]
    },
    {
      "cell_type": "code",
      "source": [
        "!add-apt-repository --yes ppa:ubuntugis/ubuntugis-unstable\n",
        "!apt update\n",
        "!apt install libgdal26 libsqlite3-mod-spatialite \n",
        "!pip install gdal==3.0.4\n",
        "print(\"INSTALLATION COMPLETED\")"
      ],
      "metadata": {
        "id": "6CDxArKFAwID"
      },
      "id": "6CDxArKFAwID",
      "execution_count": null,
      "outputs": []
    },
    {
      "cell_type": "code",
      "source": [
        "!pip install owslib\n",
        "!pip install -e 'git+https://gitlab.com/geoharmonizer_inea/st_lucas/st_lucas-python-package.git@colab#egg=st_lucas'"
      ],
      "metadata": {
        "id": "dPyAK3ZGA3rg"
      },
      "id": "dPyAK3ZGA3rg",
      "execution_count": null,
      "outputs": []
    },
    {
      "cell_type": "markdown",
      "source": [
        "Now **we have to restart runtime**: `Runtime -> Restart runtime`.\n",
        "\n",
        "From `st_lucas` package let's import `LucasRequest` and `LucasIO`."
      ],
      "metadata": {
        "id": "fhApDe8HA6v-"
      },
      "id": "fhApDe8HA6v-"
    },
    {
      "cell_type": "code",
      "execution_count": null,
      "id": "7a252f4a",
      "metadata": {
        "id": "7a252f4a"
      },
      "outputs": [],
      "source": [
        "from st_lucas import LucasRequest, LucasIO, LucasClassAggregate"
      ]
    },
    {
      "cell_type": "markdown",
      "id": "9f4b71fd",
      "metadata": {
        "id": "9f4b71fd"
      },
      "source": [
        "#### Define request\n",
        "\n",
        "Request LUCAS points located in the Czech Republic and surveyed in 2018."
      ]
    },
    {
      "cell_type": "code",
      "execution_count": null,
      "id": "cd98872f",
      "metadata": {
        "id": "cd98872f"
      },
      "outputs": [],
      "source": [
        "request = LucasRequest()\n",
        "request.countries = ['CZ']\n",
        "request.years = [2018]"
      ]
    },
    {
      "cell_type": "markdown",
      "id": "361ae58a",
      "metadata": {
        "id": "361ae58a"
      },
      "source": [
        "#### Download data"
      ]
    },
    {
      "cell_type": "code",
      "execution_count": null,
      "id": "360341c4",
      "metadata": {
        "id": "360341c4"
      },
      "outputs": [],
      "source": [
        "lucasio = LucasIO()\n",
        "lucasio.download(request)"
      ]
    },
    {
      "cell_type": "markdown",
      "id": "c10c2199",
      "metadata": {
        "id": "c10c2199"
      },
      "source": [
        "#### Inspect downloaded LUCAS data"
      ]
    },
    {
      "cell_type": "code",
      "execution_count": null,
      "id": "076d9698",
      "metadata": {
        "id": "076d9698"
      },
      "outputs": [],
      "source": [
        "df = lucasio.to_geopandas()\n",
        "df[[\"point_id\",\"lc1\"]]"
      ]
    },
    {
      "cell_type": "code",
      "source": [
        "df.count()"
      ],
      "metadata": {
        "id": "1elilCmBfyts"
      },
      "id": "1elilCmBfyts",
      "execution_count": null,
      "outputs": []
    },
    {
      "cell_type": "markdown",
      "id": "f9f052fe",
      "metadata": {
        "id": "f9f052fe"
      },
      "source": [
        "#### Show statistics"
      ]
    },
    {
      "cell_type": "code",
      "execution_count": null,
      "id": "b6c1b36e",
      "metadata": {
        "id": "b6c1b36e"
      },
      "outputs": [],
      "source": [
        "df[\"lc1\"].describe()"
      ]
    },
    {
      "cell_type": "code",
      "execution_count": null,
      "id": "612c8e73",
      "metadata": {
        "id": "612c8e73"
      },
      "outputs": [],
      "source": [
        "df['lc1_l1'] = df['lc1'].str.slice(0,1)\n",
        "df['lc1_l1'].value_counts().plot.pie(figsize=(10, 10), autopct=\"%.1f\")"
      ]
    },
    {
      "cell_type": "markdown",
      "id": "030d6a4c",
      "metadata": {
        "id": "030d6a4c"
      },
      "source": [
        "## Class aggregation\n",
        "\n",
        "LUCAS points are by default obtained with information corresponding to LUCAS land cover level 3. With the `LucasClassAggregate` method, you can get information about level 2 or level 1. New column will be added at the end of attribute table."
      ]
    },
    {
      "cell_type": "code",
      "execution_count": null,
      "id": "cc01d224",
      "metadata": {
        "id": "cc01d224"
      },
      "outputs": [],
      "source": [
        "from st_lucas import LucasRequest, LucasIO, LucasClassAggregate\n",
        "request = LucasRequest()\n",
        "request.countries = ['CZ']\n",
        "request.years = [2018]\n",
        "lucasio = LucasIO()\n",
        "lucasio.download(request)\n",
        "\n",
        "lc1_to_level1 = {\n",
        "    \"A00\": [\"A11\", \"A12\", \"A13\", \"A21\", \"A22\", \"A30\"],\n",
        "    \"B00\": [\"B11\", \"B12\", \"B13\", \"B14\", \"B15\", \"B16\", \"B17\", \"B18\", \"B19\", \"B21\", \"B22\", \"B23\", \"B31\", \"B32\", \"B33\", \"B34\", \"B35\", \"B36\", \"B37\", \"B41\", \"B42\", \"B43\", \"B44\", \"B45\", \"B51\", \"B52\", \"B53\", \"B54\", \"B55\", \"B71\", \"B72\", \"B73\", \"B74\", \"B75\", \"B76\", \"B77\", \"B81\", \"B82\", \"B83\", \"B84\"],\n",
        "    \"Bx1\": [\"Bx1\"],\n",
        "    \"Bx2\": [\"Bx2\"],\n",
        "    \"C00\": [\"C10\", \"C21\", \"C22\", \"C23\", \"C31\", \"C32\", \"C33\"],\n",
        "    \"D00\": [\"D10\", \"D20\"],\n",
        "    \"E00\": [\"E10\", \"E20\", \"E30\"],\n",
        "    \"F00\": [\"F10\", \"F20\", \"F30\", \"F40\"],\n",
        "    \"G00\": [\"G11\", \"G12\", \"G21\", \"G22\", \"G30\", \"G40\", \"G50\"],\n",
        "    \"H00\": [\"H11\", \"H12\", \"H21\", \"H22\", \"H23\"]\n",
        "}\n",
        "\n",
        "lucasaggr = LucasClassAggregate(lucasio.data, mappings=lc1_to_level1)\n",
        "lucasaggr.apply()"
      ]
    },
    {
      "cell_type": "markdown",
      "id": "0644183e",
      "metadata": {
        "id": "0644183e"
      },
      "source": [
        "Check the appearance of the new column."
      ]
    },
    {
      "cell_type": "code",
      "execution_count": null,
      "id": "7520e894",
      "metadata": {
        "id": "7520e894"
      },
      "outputs": [],
      "source": [
        "df = lucasio.to_geopandas()\n",
        "df[[\"lc1_h\", \"lc1_a\"]].head()\n"
      ]
    },
    {
      "cell_type": "markdown",
      "id": "utility-swaziland",
      "metadata": {
        "id": "utility-swaziland"
      },
      "source": [
        "## Nomenclature translation\n",
        "\n",
        "Translate the obtained data into CLC2."
      ]
    },
    {
      "cell_type": "code",
      "execution_count": null,
      "id": "8cb579ff",
      "metadata": {
        "id": "8cb579ff"
      },
      "outputs": [],
      "source": [
        "from st_lucas import LucasClassTranslate\n",
        "\n",
        "lucastrans = LucasClassTranslate(lucasio.data)\n",
        "lucastrans.set_translations(\"CLC2\")\n",
        "lucastrans.apply()"
      ]
    },
    {
      "cell_type": "markdown",
      "id": "5a5954db",
      "metadata": {
        "id": "5a5954db"
      },
      "source": [
        "Check the appearance of the new column."
      ]
    },
    {
      "cell_type": "code",
      "execution_count": null,
      "id": "33aea10b",
      "metadata": {
        "id": "33aea10b"
      },
      "outputs": [],
      "source": [
        "df = lucasio.to_geopandas()\n",
        "df[[\"lc1_h\", \"lu1_h\", \"clc2\"]].head(10)"
      ]
    }
  ],
  "metadata": {
    "celltoolbar": "Raw Cell Format",
    "kernelspec": {
      "display_name": "Python 3 (ipykernel)",
      "language": "python",
      "name": "python3"
    },
    "language_info": {
      "codemirror_mode": {
        "name": "ipython",
        "version": 3
      },
      "file_extension": ".py",
      "mimetype": "text/x-python",
      "name": "python",
      "nbconvert_exporter": "python",
      "pygments_lexer": "ipython3",
      "version": "3.10.4"
    },
    "colab": {
      "name": "03_lucas_analyze.ipynb",
      "provenance": []
    }
  },
  "nbformat": 4,
  "nbformat_minor": 5
}