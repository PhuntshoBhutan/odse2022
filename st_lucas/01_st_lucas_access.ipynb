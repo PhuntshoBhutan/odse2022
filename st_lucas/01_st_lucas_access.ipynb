{
  "cells": [
    {
      "cell_type": "markdown",
      "id": "30ade9a0",
      "metadata": {
        "id": "30ade9a0"
      },
      "source": [
        "# Access harmonized LUCAS samples\n",
        "First of all, let's install `st_lucas` Python package. \n",
        "\n",
        "In the case that this notebook is run in [Google Colab](https://colab.research.google.com/), additional steps are needed. Google Colab comes with GDAL 2.2. We have to update this library to version 3.0. It will takes a while."
      ]
    },
    {
      "cell_type": "code",
      "execution_count": null,
      "id": "vfxZBIYJpjFf",
      "metadata": {
        "id": "vfxZBIYJpjFf"
      },
      "outputs": [],
      "source": [
        "!add-apt-repository --yes ppa:ubuntugis/ubuntugis-unstable\n",
        "!apt update\n",
        "!apt install libgdal26\n",
        "!pip install gdal==3.0.4\n",
        "print(\"INSTALLATION COMPLETED\")"
      ]
    },
    {
      "cell_type": "markdown",
      "source": [
        "Now let's import `st_lucas` & additional required packages."
      ],
      "metadata": {
        "id": "sR4p3pp3dbDJ"
      },
      "id": "sR4p3pp3dbDJ"
    },
    {
      "cell_type": "code",
      "execution_count": null,
      "id": "295fb4d0",
      "metadata": {
        "id": "295fb4d0"
      },
      "outputs": [],
      "source": [
        "!pip install owslib ipyleaflet\n",
        "!pip install -e 'git+https://gitlab.com/geoharmonizer_inea/st_lucas/st_lucas-python-package.git@colab#egg=st_lucas'"
      ]
    },
    {
      "cell_type": "markdown",
      "id": "a4a2f64f",
      "metadata": {
        "id": "a4a2f64f"
      },
      "source": [
        "Now **we have to restart runtime**: `Runtime -> Restart runtime`.\n",
        "\n",
        "From `st_lucas` package let's import `LucasRequest` and `LucasIO`."
      ]
    },
    {
      "cell_type": "code",
      "execution_count": null,
      "id": "1a2d1a1b",
      "metadata": {
        "id": "1a2d1a1b"
      },
      "outputs": [],
      "source": [
        "from st_lucas import LucasRequest, LucasIO"
      ]
    },
    {
      "cell_type": "markdown",
      "id": "12c7d611",
      "metadata": {
        "id": "12c7d611"
      },
      "source": [
        "## ST_LUCAS Python package API\n",
        "\n",
        "### Imports \n",
        "\n",
        "* class to define a request \n",
        "\n",
        "<font color=blue>**from st_lucas import LucasRequest**</font>\n",
        "\n",
        "* class to input / output LUCAS features \n",
        "\n",
        "<font color=blue>**from st_lucas import LucasIO**</font>\n",
        "\n",
        "\n",
        "\n",
        "### Instantiate classes \n",
        "\n",
        "* to create data request\n",
        "\n",
        "<font color=blue>**request = LucasRequest()**</font>\n",
        "\n",
        "* to controll data input/output\n",
        "\n",
        "<font color=blue>**lucasio = LucasIO()**</font>\n",
        "\n",
        "\n",
        "### Spatial filter \n",
        "* 1. by bbox property (only EPSG:3035 is supported)\n",
        "\n",
        "<font color=blue>**request.bbox = (4504276, 3020369, 4689608, 3105290)**</font>\n",
        "\n",
        "* 2. by countries code \n",
        "\n",
        "<font color=blue>**request.countries = ['CZ']**</font>\n",
        "\n",
        "Example for multiple countries (Python list)\n",
        "\n",
        "<font color=blue>**request.countries = ['CZ', 'SK']**</font>\n",
        "\n",
        "\n",
        "* 3. by AOI `aoi_polygon` (gml format): \n",
        "```\n",
        "request.aoi_polygon = '<Within>' \\\n",
        "'     <PropertyName>lucas:geom</PropertyName>' \\\n",
        "'     <gml:Polygon xmlns:gml=\"http://www.opengis.net/gml\" srsName=\"urn:ogc:def:crs:EPSG::3035\" gml:id=\"polygon_32.geom.0\">' \\\n",
        "'         <gml:exterior>' \\\n",
        "'             <gml:LinearRing>' \\\n",
        "'                 <gml:posList>3014669.3195414557 4640226.080241454 2981893.140187475 4628385.701013993 2965449.7283930806 4639492.816821902 2958781.6185918115 4658392.1858341275 2977549.274784839 4672892.4477362465 3004572.819247867 4661017.510044226 3014669.3195414557 4640226.080241454 </gml:posList>' \\\n",
        "'             </gml:LinearRing>' \\\n",
        "'         </gml:exterior>' \\\n",
        "'     </gml:Polygon>' \\\n",
        "'</Within>'\n",
        "```\n",
        "\n",
        "### Temporal filter \n",
        "* 1. by single year definition \n",
        "\n",
        "<font color=blue>**request.years = [2006]**</font>\n",
        "\n",
        "* 2. or by multiple years (Python list)\n",
        "\n",
        "<font color=blue>**request.years = [2006, 2009]**</font>\n",
        "\n",
        "\n",
        "### Thematic filter \n",
        "* by setting codes of thematic groups \n",
        "(CO - Copernicus; FO - Forestry; IN - INSPIRE; LC_LU - Land cover, Land use; LC_LU_SO - Land cover, Land use, Soil]) \n",
        "\n",
        "<font color=blue>**request.group = 'LC_LU'**</font>\n",
        "\n",
        "\n",
        "### Space-time aggregation \n",
        "* by `st_aggregated` property we determine whether the data should be space-time aggregated \n",
        "Space-time aggregation means that one record in the attribute table represents one point with all values measured in all years. \n",
        "\n",
        "<font color=blue>**request.st_aggregated = True**</font>\n",
        "\n",
        "\n",
        "### Download data \n",
        "* 1. by using `download(request)` method using on the prepared request\n",
        "\n",
        "<font color=blue>**lucasio.download(request)**</font>\n",
        "    \n",
        "\n",
        "* 2. or optionally by `build()` metod as a helper function to test the requrest without dowloading the data\n",
        "\n",
        "<font color=blue>**request.build()**</font>\n",
        "\n",
        "### Get data in specified format\n",
        "* 1. by `to_geopandas()` method to convert the data into GeoDataFrame object\n",
        "\n",
        "<font color=blue>**lucasio.to_geopandas()**</font>\n",
        "\n",
        "* 2. by `to_gml()` method to convert data in OGC GML format\n",
        "\n",
        "<font color=blue>**lucasio.to_gml()**</font>\n",
        "\n",
        "* 3. by `to_gpkg()` method to save the data in a OGC GeoPackage file\n",
        "\n",
        "<font color=blue>**lucasio.to_gpkg('sample.gpkg')**</font>\n",
        "\n"
      ]
    },
    {
      "cell_type": "markdown",
      "id": "2a9ae81a",
      "metadata": {
        "id": "2a9ae81a"
      },
      "source": [
        "## Usage"
      ]
    },
    {
      "cell_type": "markdown",
      "id": "b093fc64",
      "metadata": {
        "id": "b093fc64"
      },
      "source": [
        "### 1. Define a request\n",
        "\n",
        "Request is defined by `LucasRequest`. In example below the spatial filter is defined by a bounding box (`bbox` property). Note that only [EPSG:3035](http://epsg.io/3035) is supported.\n",
        "\n",
        "For testing purposes, the request can be created by `build()` method."
      ]
    },
    {
      "cell_type": "code",
      "execution_count": null,
      "id": "8e760be4",
      "metadata": {
        "id": "8e760be4"
      },
      "outputs": [],
      "source": [
        "request = LucasRequest()\n",
        "request.bbox = (4504276, 3020369, 4689608, 3105290)\n",
        "\n",
        "request.build()"
      ]
    },
    {
      "cell_type": "markdown",
      "id": "4909321e",
      "metadata": {
        "id": "4909321e"
      },
      "source": [
        "### 2. Download data based on a request\n",
        "\n",
        "LUCAS data retrieval is controlled by the `LucasIO` (input/output) class. Data is downloaded by calling the `download()` method using the prepared request. The number of downloaded LUCAS observations can be retrived by the `count()` method."
      ]
    },
    {
      "cell_type": "code",
      "execution_count": null,
      "id": "42d1d329",
      "metadata": {
        "id": "42d1d329"
      },
      "outputs": [],
      "source": [
        "lucasio = LucasIO()\n",
        "lucasio.download(request)\n",
        "\n",
        "print(\"Number of downloaded points:\", lucasio.count())"
      ]
    },
    {
      "cell_type": "markdown",
      "id": "9b8fbbd4",
      "metadata": {
        "id": "9b8fbbd4"
      },
      "source": [
        "### 3. Get data in specified format"
      ]
    },
    {
      "cell_type": "markdown",
      "id": "20faa3eb",
      "metadata": {
        "id": "20faa3eb"
      },
      "source": [
        "`LucasIO` allows getting data in various data structures/formats.\n",
        "\n",
        "By calling the `to_geopandas()` method, the data is retrieved as a [GeoDataFrame](https://geopandas.org/docs/reference/api/geopandas.GeoDataFrame.html) object.\n",
        "\n",
        "We can visualize downloaded LUCAS observations using `ipyleaflet` package."
      ]
    },
    {
      "cell_type": "code",
      "execution_count": null,
      "id": "_zUREveBX6Ep",
      "metadata": {
        "id": "_zUREveBX6Ep"
      },
      "outputs": [],
      "source": [
        "from ipyleaflet import Map, GeoData, basemaps, LayersControl\n",
        "\n",
        "points = lucasio.to_geopandas(epsg=4326)\n",
        "\n",
        "center = points.dissolve().centroid\n",
        "m = Map(center=(float(center.y), float(center.x)), zoom=8, basemap=basemaps.OpenStreetMap.Mapnik)\n",
        "\n",
        "geo_data = GeoData(geo_dataframe=points,\n",
        "                   style={'color': 'black', 'fillColor': '#3366cc', 'opacity':0.05, 'weight':1.9, 'dashArray':'2', 'fillOpacity':0.6},\n",
        "                   point_style={'radius': 2, 'color': 'red', 'fillOpacity': 0.8, 'fillColor': 'blue', 'weight': 3},\n",
        "                   name='LUCAS points')\n",
        "\n",
        "m.add_layer(geo_data)\n",
        "m.add_control(LayersControl())\n",
        "\n",
        "m"
      ]
    },
    {
      "cell_type": "markdown",
      "id": "1bfd5944",
      "metadata": {
        "id": "1bfd5944"
      },
      "source": [
        "The method `to_gml()` returns a byte array containing data in the [OGC GML](https://www.ogc.org/standards/gml) format."
      ]
    },
    {
      "cell_type": "code",
      "execution_count": null,
      "id": "9917eabc",
      "metadata": {
        "id": "9917eabc"
      },
      "outputs": [],
      "source": [
        "gml_str = lucasio.to_gml()\n",
        "\n",
        "# check the type of the string\n",
        "print(type(gml_str), '\\n'.join(gml_str.splitlines()[:5]))"
      ]
    },
    {
      "cell_type": "markdown",
      "id": "f0b8f7c0",
      "metadata": {
        "id": "f0b8f7c0"
      },
      "source": [
        "The method `to_gpkg()` stores the data locally in a [OGC GeoPackage](https://www.geopackage.org/) file."
      ]
    },
    {
      "cell_type": "code",
      "execution_count": null,
      "id": "388bda35",
      "metadata": {
        "id": "388bda35"
      },
      "outputs": [],
      "source": [
        "gpkg_file = 'sample.gpkg'\n",
        "lucasio.to_gpkg(gpkg_file)\n",
        "\n",
        "# check if the file exists\n",
        "from pathlib import Path\n",
        "print(Path(gpkg_file).exists())"
      ]
    },
    {
      "cell_type": "markdown",
      "id": "557046c2",
      "metadata": {
        "id": "557046c2"
      },
      "source": [
        "## Request examples\n",
        "\n",
        "Beside filtering by a bounding box, `LucasRequest` also supports other two spatial filters: \n",
        "* by countries and\n",
        "* by user-defined polygon\n",
        "\n",
        "### Filter by countries\n",
        "\n",
        "List of countries to be filtered is defined by `countries` property. Country is given by NUTS0 code. In the example below the spatial filter is limited to the Czech Republic. LUCAS subset is downloaded by user-defined `download()` function."
      ]
    },
    {
      "cell_type": "code",
      "execution_count": null,
      "id": "2a8c8323",
      "metadata": {
        "id": "2a8c8323"
      },
      "outputs": [],
      "source": [
        "request = LucasRequest() \n",
        "request.countries = ['CZ']\n",
        "\n",
        "def download(request):\n",
        "    lucasio = LucasIO()\n",
        "    lucasio.download(request)\n",
        "    print(\"Number of downloaded points:\", lucasio.count())\n",
        "    \n",
        "download(request)"
      ]
    },
    {
      "cell_type": "markdown",
      "id": "b677d677",
      "metadata": {
        "id": "b677d677"
      },
      "source": [
        "Example below demostrate retrival of LUCAS subset defined by the Czech Republic and Slovakia."
      ]
    },
    {
      "cell_type": "code",
      "execution_count": null,
      "id": "4f0262d1",
      "metadata": {
        "id": "4f0262d1"
      },
      "outputs": [],
      "source": [
        "request = LucasRequest()\n",
        "request.countries = ['CZ', 'SK']\n",
        "\n",
        "download(request)"
      ]
    },
    {
      "cell_type": "markdown",
      "id": "f273fe87",
      "metadata": {
        "id": "f273fe87"
      },
      "source": [
        "### Filter by polygon\n",
        "\n",
        "Spatial filter can be also defined by polygon vertices. \n",
        "\n",
        "There is a limit for the request length, so the number of vertices is also limited. The AOI polygon can contain only about 190 vertices."
      ]
    },
    {
      "cell_type": "code",
      "execution_count": null,
      "id": "ebd60b1e",
      "metadata": {
        "id": "ebd60b1e"
      },
      "outputs": [],
      "source": [
        "request = LucasRequest()\n",
        "request.aoi_polygon = '<Within>' \\\n",
        "                   '     <PropertyName>lucas:geom</PropertyName>' \\\n",
        "                   '     <gml:Polygon xmlns:gml=\"http://www.opengis.net/gml\" srsName=\"urn:ogc:def:crs:EPSG::3035\" gml:id=\"polygon_32.geom.0\">' \\\n",
        "                   '         <gml:exterior>' \\\n",
        "                   '             <gml:LinearRing>' \\\n",
        "                   '                 <gml:posList>3014669.3195414557 4640226.080241454 2981893.140187475 4628385.701013993 2965449.7283930806 4639492.816821902 2958781.6185918115 4658392.1858341275 2977549.274784839 4672892.4477362465 3004572.819247867 4661017.510044226 3014669.3195414557 4640226.080241454 </gml:posList>' \\\n",
        "                   '             </gml:LinearRing>' \\\n",
        "                   '         </gml:exterior>' \\\n",
        "                   '     </gml:Polygon>' \\\n",
        "                   '</Within>'\n",
        "\n",
        "download(request)"
      ]
    },
    {
      "cell_type": "markdown",
      "id": "84754d27",
      "metadata": {
        "id": "84754d27"
      },
      "source": [
        "### Filter by years\n",
        "\n",
        "By default all survey years are retrieved. By the `years` property, list of survey years can be limited."
      ]
    },
    {
      "cell_type": "code",
      "execution_count": null,
      "id": "082e68a1",
      "metadata": {
        "id": "082e68a1"
      },
      "outputs": [],
      "source": [
        "request = LucasRequest()\n",
        "request.countries = ['AT']\n",
        "request.years = [2006, 2009]\n",
        "\n",
        "download(request)"
      ]
    },
    {
      "cell_type": "markdown",
      "id": "468b1bf2",
      "metadata": {
        "id": "468b1bf2"
      },
      "source": [
        "### Thematic groups\n",
        "\n",
        "A thematic group determines which attributes will describe the downloaded data. There are 5 groups:\n",
        "* `LC_LU` - Land cover, Land use;\n",
        "* `LC_LU_SO` - Land cover, Land use, Soil);\n",
        "* `CO` - Copernicus;\n",
        "* `FO` - Forestry;\n",
        "* `IN` - INSPIRE.\n",
        "\n",
        "Visit [list of LUCAS attributes](https://geoforall.fsv.cvut.cz/st_lucas/tables/list_of_attributes.html) on ST_LUCAS website.\n",
        "\n",
        "The file always contains mandatory attributes that define mainly the location of the point.\n",
        "\n",
        "A combination of `bbox` and `group` (Copernicus) is presented below."
      ]
    },
    {
      "cell_type": "code",
      "execution_count": null,
      "id": "28940458",
      "metadata": {
        "id": "28940458"
      },
      "outputs": [],
      "source": [
        "request = LucasRequest()\n",
        "request.countries = ['CZ']\n",
        "request.group = 'CO'\n",
        "\n",
        "lucasio = LucasIO()\n",
        "lucasio.download(request)\n",
        "\n",
        "points = lucasio.to_geopandas()\n",
        "print(\"Number of attributes:\", len(points.columns))"
      ]
    },
    {
      "cell_type": "markdown",
      "id": "8de3def9",
      "metadata": {
        "id": "8de3def9"
      },
      "source": [
        "### Filter by attributes\n",
        "\n",
        "Attribute filter allows to use any LUCAS attribute (see [list of LUCAS attributes](https://geoforall.fsv.cvut.cz/st_lucas/tables/list_of_attributes.html)) or combination of attributes.\n",
        "\n",
        "In example bellow only LUCAS locations visited repeatedly 5 times are retrieved."
      ]
    },
    {
      "cell_type": "code",
      "execution_count": null,
      "id": "be9f4023",
      "metadata": {
        "id": "be9f4023"
      },
      "outputs": [],
      "source": [
        "from owslib.fes import PropertyIsEqualTo\n",
        "\n",
        "request = LucasRequest()\n",
        "request.bbox = (4504276, 3020369, 4689608, 3105290)\n",
        "request.propertyname = 'SURVEY_COUNT'\n",
        "request.operator = PropertyIsEqualTo\n",
        "request.literal = 5\n",
        "request.st_aggregated = True\n",
        "\n",
        "download(request)"
      ]
    },
    {
      "cell_type": "markdown",
      "id": "c5cbdbb3",
      "metadata": {
        "id": "c5cbdbb3"
      },
      "source": [
        "### Space-time aggregation\n",
        "\n",
        "The `st_aggregated` property is used to determine whether the data should be space-time aggregated. Space-time aggregation means that one record in the attribute table represents one point with all values measured in all years. Otherwise, every single record in the attribute table represents one survey.\n",
        "\n",
        "In example below space-time aggregated LUCAS points located in the Czech Republic are queried."
      ]
    },
    {
      "cell_type": "code",
      "execution_count": null,
      "id": "c1544973",
      "metadata": {
        "id": "c1544973"
      },
      "outputs": [],
      "source": [
        "request = LucasRequest()\n",
        "request.group = 'LC_LU'\n",
        "request.countries = ['CZ']\n",
        "request.st_aggregated = True\n",
        "\n",
        "lucasio = LucasIO()\n",
        "lucasio.download(request)\n",
        "\n",
        "points = lucasio.to_geopandas()\n",
        "points.columns"
      ]
    },
    {
      "cell_type": "markdown",
      "id": "74f80aea",
      "metadata": {
        "id": "74f80aea"
      },
      "source": [
        "In example below space-time aggregated LUCAS points only for years 2015 and 2018 are queried."
      ]
    },
    {
      "cell_type": "code",
      "execution_count": null,
      "id": "e58671f3",
      "metadata": {
        "id": "e58671f3"
      },
      "outputs": [],
      "source": [
        "request = LucasRequest()\n",
        "\n",
        "request.years = [2015, 2018]\n",
        "request.bbox=(4624127, 2998330, 4650393, 3013986)\n",
        "request.st_aggregated = True\n",
        "\n",
        "download(request)"
      ]
    },
    {
      "cell_type": "markdown",
      "id": "a2342d79",
      "metadata": {
        "id": "a2342d79"
      },
      "source": [
        "### Show photos of selected LUCAS point"
      ]
    },
    {
      "cell_type": "markdown",
      "id": "82a9ed22",
      "metadata": {
        "id": "82a9ed22"
      },
      "source": [
        "Show `point_id` of points by GeoPandas library."
      ]
    },
    {
      "cell_type": "code",
      "execution_count": null,
      "id": "486885d3",
      "metadata": {
        "id": "486885d3"
      },
      "outputs": [],
      "source": [
        "request = LucasRequest()\n",
        "\n",
        "request.years = [2015, 2018]\n",
        "request.bbox=(4624127, 2998330, 4650393, 3013986)\n",
        "\n",
        "lucasio = LucasIO()\n",
        "lucasio.download(request)\n",
        "\n",
        "df = lucasio.to_geopandas()\n",
        "df[[\"point_id\"]]"
      ]
    },
    {
      "cell_type": "markdown",
      "id": "fbd1ed57",
      "metadata": {
        "id": "fbd1ed57"
      },
      "source": [
        "#### Display photos\n",
        "\n",
        "Show photos of a selected LUCAS point by calling the method `get_images()` with `year` and `point_id` of the point specified. This will return a dictionary of URL adresses of 5 photos representing the point itself, a northern look, a southern look, an eastern look, and a western look."
      ]
    },
    {
      "cell_type": "code",
      "execution_count": null,
      "id": "a209bef2",
      "metadata": {
        "id": "a209bef2"
      },
      "outputs": [],
      "source": [
        "id = df[[\"point_id\"]].values[0][0]\n",
        "images = lucasio.get_images(2015, id)\n",
        "print(images)"
      ]
    },
    {
      "cell_type": "markdown",
      "id": "65c59d00",
      "metadata": {
        "id": "65c59d00"
      },
      "source": [
        "Let's display photo representing the South of the point."
      ]
    },
    {
      "cell_type": "code",
      "execution_count": null,
      "id": "5ad407cf",
      "metadata": {
        "id": "5ad407cf"
      },
      "outputs": [],
      "source": [
        "import requests\n",
        "from IPython.display import Image\n",
        "\n",
        "r = requests.get(images[\"P\"])\n",
        "Image(r.content)"
      ]
    },
    {
      "cell_type": "markdown",
      "id": "c70631cd",
      "metadata": {
        "id": "c70631cd"
      },
      "source": [
        ""
      ]
    }
  ],
  "metadata": {
    "colab": {
      "collapsed_sections": [],
      "name": "01_st_lucas_access.ipynb",
      "provenance": []
    },
    "kernelspec": {
      "display_name": "Python 3 (ipykernel)",
      "language": "python",
      "name": "python3"
    },
    "language_info": {
      "codemirror_mode": {
        "name": "ipython",
        "version": 3
      },
      "file_extension": ".py",
      "mimetype": "text/x-python",
      "name": "python",
      "nbconvert_exporter": "python",
      "pygments_lexer": "ipython3",
      "version": "3.9.10"
    }
  },
  "nbformat": 4,
  "nbformat_minor": 5
}